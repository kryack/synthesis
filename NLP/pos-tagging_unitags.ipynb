{
 "cells": [
  {
   "cell_type": "code",
   "execution_count": 1,
   "metadata": {},
   "outputs": [],
   "source": [
    "%matplotlib inline"
   ]
  },
  {
   "cell_type": "markdown",
   "metadata": {},
   "source": [
    "# An LSTM for Part-of-Speech Tagging\n",
    "https://pytorch.org/tutorials/beginner/nlp/sequence_models_tutorial.html\n"
   ]
  },
  {
   "cell_type": "code",
   "execution_count": 2,
   "metadata": {},
   "outputs": [
    {
     "data": {
      "text/plain": [
       "<torch._C.Generator at 0x7fbb402a5130>"
      ]
     },
     "execution_count": 2,
     "metadata": {},
     "output_type": "execute_result"
    }
   ],
   "source": [
    "import numpy as np\n",
    "import torch\n",
    "import torch.nn as nn\n",
    "import torch.nn.functional as F\n",
    "import torch.optim as optim\n",
    "\n",
    "torch.manual_seed(1)"
   ]
  },
  {
   "cell_type": "markdown",
   "metadata": {},
   "source": [
    "### Load Data"
   ]
  },
  {
   "cell_type": "code",
   "execution_count": 3,
   "metadata": {},
   "outputs": [],
   "source": [
    "import csv\n",
    "Dataset = []\n",
    "with open('Data/Parsed_simpletag.csv', newline='') as csvfile:\n",
    "    csv_reader = csv.reader(csvfile, delimiter=',')\n",
    "   \n",
    "    data = []\n",
    "    for row in csv_reader:\n",
    "        \n",
    "        if len(row) == 0:\n",
    "            Dataset.append(data)\n",
    "            data = []\n",
    "        else:\n",
    "            tag = [row[0], row[1], row[2]]\n",
    "            data.append(tag)"
   ]
  },
  {
   "cell_type": "code",
   "execution_count": null,
   "metadata": {},
   "outputs": [],
   "source": []
  },
  {
   "cell_type": "markdown",
   "metadata": {},
   "source": [
    "### Make universal tagset!"
   ]
  },
  {
   "cell_type": "code",
   "execution_count": 4,
   "metadata": {},
   "outputs": [],
   "source": [
    "# http://universaldependencies.org/u/pos/\n",
    "\n",
    "uni = {\n",
    "    # open\n",
    "    'A': 'ADJ',\n",
    "    'ADV': 'ADV',\n",
    "    'INTJ': 'INTJ',\n",
    "    'S': 'NOUN',\n",
    "    'V': 'VERB',\n",
    "    'INIT': 'PROPN', \n",
    "    \n",
    "    # closed\n",
    "    'PR': 'ADP',\n",
    "    #'': 'AUX', ### not in Russian\n",
    "    'CONJ': 'CONJ', # 'CCONJ', 'SCONJ'\n",
    "    'APRO': 'DET',\n",
    "    'NUM': 'NUM',\n",
    "    'PART': 'PART',\n",
    "    'SPRO': 'PRON',\n",
    "    \n",
    "    # other\n",
    "    'PUNCT': 'PUNCT',\n",
    "    'NONLEX': 'X',\n",
    "        \n",
    "    # dop\n",
    "    'ADVPRO': 'ADV',\n",
    "    'ANUM': 'ADJ',\n",
    "    'PARENTH': 'ADV',  # Вводное слово\n",
    "    'PRAEDIC': 'ADV',  # maybe VERB\n",
    "    'PRAEDICPRO': 'ADV'  # maybe VERB\n",
    "}"
   ]
  },
  {
   "cell_type": "code",
   "execution_count": 5,
   "metadata": {},
   "outputs": [],
   "source": [
    "for sentence in Dataset:\n",
    "    for word in sentence:\n",
    "        \n",
    "        tag = uni[word[2]]\n",
    "        word.pop(2)\n",
    "        word.append(tag)"
   ]
  },
  {
   "cell_type": "code",
   "execution_count": null,
   "metadata": {},
   "outputs": [],
   "source": []
  },
  {
   "cell_type": "markdown",
   "metadata": {},
   "source": [
    "## Prepare data!"
   ]
  },
  {
   "cell_type": "code",
   "execution_count": 6,
   "metadata": {},
   "outputs": [],
   "source": [
    "def prepare_sequence(seq, to_ix):\n",
    "    idxs = [to_ix[w] for w in seq]\n",
    "    return torch.tensor(idxs, dtype=torch.long)"
   ]
  },
  {
   "cell_type": "code",
   "execution_count": 7,
   "metadata": {},
   "outputs": [
    {
     "name": "stdout",
     "output_type": "stream",
     "text": [
      "num of sentences: 87782\n"
     ]
    }
   ],
   "source": [
    "use_lemms = 1\n",
    "\n",
    "data = []\n",
    "for sentence in Dataset:\n",
    "    sentence_data = []\n",
    "    words = []\n",
    "    tags = []\n",
    "    for word in sentence:\n",
    "        words.append(word[use_lemms])\n",
    "        tags.append(word[2])\n",
    "    \n",
    "    sentence_data.append(words)\n",
    "    sentence_data.append(tags)\n",
    "    \n",
    "    sentence_data = tuple(sentence_data)\n",
    "    data.append(sentence_data)\n",
    "    \n",
    "print('num of sentences:', len(data))"
   ]
  },
  {
   "cell_type": "code",
   "execution_count": 8,
   "metadata": {},
   "outputs": [
    {
     "data": {
      "text/plain": [
       "[(['нет', '.'], ['PART', 'PUNCT']),\n",
       " (['один', 'только', 'кусочек', 'холодный', 'остаться', '.'],\n",
       "  ['ADJ', 'PART', 'NOUN', 'ADJ', 'VERB', 'PUNCT']),\n",
       " (['В', '..'], ['PROPN', 'PUNCT']),\n",
       " (['давайте', 'погреть', '.'], ['PART', 'VERB', 'PUNCT']),\n",
       " (['Б', '..'], ['PROPN', 'PUNCT'])]"
      ]
     },
     "execution_count": 8,
     "metadata": {},
     "output_type": "execute_result"
    }
   ],
   "source": [
    "data[100:105]"
   ]
  },
  {
   "cell_type": "markdown",
   "metadata": {},
   "source": [
    "## Make w2v!!!"
   ]
  },
  {
   "cell_type": "code",
   "execution_count": 9,
   "metadata": {},
   "outputs": [
    {
     "name": "stdout",
     "output_type": "stream",
     "text": [
      "(2641862, 500)\n"
     ]
    }
   ],
   "source": [
    "import gensim\n",
    "from pymystem3 import Mystem\n",
    "#import pymorphy2\n",
    "from ufal.udpipe import Model, Pipeline\n",
    "\n",
    "word_vectors = gensim.models.KeyedVectors.load_word2vec_format(\"/home/r/Documents/data_w2v/tenth.norm-sz500-w7-cb0-it5-min5.w2v\", \n",
    "                                                               binary=True, unicode_errors='ignore')\n",
    "\n",
    "print(word_vectors.vectors.shape)"
   ]
  },
  {
   "cell_type": "code",
   "execution_count": 10,
   "metadata": {},
   "outputs": [],
   "source": [
    "path = 'udpipes/'\n",
    "modelfile1 = 'russian-syntagrus-ud-2.3-181115.udpipe'\n",
    "modelfile2 = 'russian-gsd-ud-2.3-181115.udpipe'\n",
    "modelfile3 = 'russian-taiga-ud-2.3-181115.udpipe'\n",
    "\n",
    "model1 = Model.load(path + modelfile1)\n",
    "model2 = Model.load(path + modelfile2)\n",
    "model3 = Model.load(path + modelfile3)"
   ]
  },
  {
   "cell_type": "code",
   "execution_count": 11,
   "metadata": {},
   "outputs": [],
   "source": [
    "def tag_ufal(word, model):\n",
    "    \n",
    "    pipeline = Pipeline(model, 'tokenize', Pipeline.DEFAULT, Pipeline.DEFAULT, 'conllu')\n",
    "    processed = pipeline.process(word)\n",
    "    output = [l for l in processed.split('\\n') if not l.startswith('#')]\n",
    "    tagged = ['_'.join(w.split('\\t')[2:4]) for w in output if w]\n",
    "    tagged = [w.split('\\t')[2] for w in output if w]\n",
    "\n",
    "    if len(tagged) > 1:\n",
    "        pass\n",
    "        #print('MANY tags!')\n",
    "        #print(word, tagged)\n",
    "    return tagged[0]"
   ]
  },
  {
   "cell_type": "code",
   "execution_count": 12,
   "metadata": {},
   "outputs": [
    {
     "data": {
      "text/plain": [
       "array([-0.18125933,  0.04451561,  0.04566395, -0.08743411,  0.06082746,\n",
       "        0.3114289 , -0.27108607,  0.12590593,  0.27222472,  0.4354773 ,\n",
       "       -0.14616688, -0.1757782 ,  0.0132714 , -0.15076365,  0.07179581,\n",
       "       -0.16493756, -0.03184904, -0.39687994,  0.02206128, -0.0151894 ,\n",
       "       -0.08458586, -0.12455434,  0.08239872,  0.15433611,  0.36637557,\n",
       "       -0.14813724, -0.00548346,  0.0207062 , -0.11735547, -0.07771657,\n",
       "       -0.23354442, -0.05254282, -0.01529887, -0.00365412,  0.05576355,\n",
       "        0.10970679, -0.06045992,  0.2756294 ,  0.35827807,  0.19157635,\n",
       "       -0.15099981, -0.04767626,  0.11978843, -0.1600945 , -0.21727917,\n",
       "       -0.10526314,  0.14590985, -0.3157325 , -0.00958069,  0.1108558 ],\n",
       "      dtype=float32)"
      ]
     },
     "execution_count": 12,
     "metadata": {},
     "output_type": "execute_result"
    }
   ],
   "source": [
    "word_vectors['vector'][:50]"
   ]
  },
  {
   "cell_type": "code",
   "execution_count": null,
   "metadata": {},
   "outputs": [],
   "source": []
  },
  {
   "cell_type": "markdown",
   "metadata": {},
   "source": [
    "### extract vectors!"
   ]
  },
  {
   "cell_type": "code",
   "execution_count": 13,
   "metadata": {},
   "outputs": [],
   "source": [
    "repair = {\n",
    "    '0': 'ноль',\n",
    "    '1': 'один',\n",
    "    '2': 'два',\n",
    "    '3': 'три',\n",
    "    '4': 'четыре',\n",
    "    '5': 'пять',\n",
    "    '6': 'шесть',\n",
    "    '7': 'семь',\n",
    "    '8': 'восемь',\n",
    "    '9': 'девять',\n",
    "    '10': 'десять',\n",
    "    ':': '-',\n",
    "    ';': ',',\n",
    "    ':\"': '-',\n",
    "    \n",
    "}"
   ]
  },
  {
   "cell_type": "code",
   "execution_count": 14,
   "metadata": {},
   "outputs": [
    {
     "name": "stdout",
     "output_type": "stream",
     "text": [
      "iter = 0\n",
      "iter = 5000\n",
      "iter = 10000\n",
      "iter = 15000\n",
      "iter = 20000\n",
      "iter = 25000\n",
      "iter = 30000\n",
      "iter = 35000\n",
      "iter = 40000\n",
      "iter = 45000\n",
      "iter = 50000\n",
      "iter = 55000\n",
      "iter = 60000\n",
      "iter = 65000\n",
      "iter = 70000\n",
      "iter = 75000\n",
      "iter = 80000\n",
      "iter = 85000\n"
     ]
    }
   ],
   "source": [
    "w2v_data = []\n",
    "\n",
    "faild_words = []\n",
    "faild_tags = []\n",
    "\n",
    "for i, sentence in enumerate(data):\n",
    "    \n",
    "    if i % 5000 == 0:\n",
    "        print('iter =', i)\n",
    "    #print(sentence)\n",
    "    \n",
    "    flag = True\n",
    "    \n",
    "    new_sentence = []\n",
    "    for i, word in enumerate(sentence[0]):\n",
    "        \n",
    "        word = word.lower()\n",
    "        \n",
    "        # repair some words!\n",
    "        if word in list(repair.keys()):\n",
    "            word = repair[word]\n",
    "        if word.count('-') == 1 and len(word) != 1:\n",
    "            ind = word.index('-')\n",
    "            word = word[:ind] + word[ind + 1:]\n",
    "            \n",
    "        for letter in word:\n",
    "            if ord(letter) >= 97 and ord(letter) <= 122 or \\\n",
    "            ord(letter) >= 65 and ord(letter) <= 90:\n",
    "                word = 'vector'\n",
    "        \n",
    "        # try-excepts for\n",
    "        try:\n",
    "            word_vectors[word]\n",
    "            new_sentence.append(word)\n",
    "            \n",
    "        except KeyError:\n",
    "            try:\n",
    "                tag = tag_ufal(word, model1)\n",
    "                word_vectors[tag]\n",
    "                new_sentence.append(tag)\n",
    "            except KeyError:\n",
    "                try:\n",
    "                    tag = tag_ufal(word, model2)\n",
    "                    word_vectors[tag]\n",
    "                    new_sentence.append(tag)\n",
    "                except KeyError:\n",
    "                    try:\n",
    "                        tag = tag_ufal(word, model3)\n",
    "                        word_vectors[tag]\n",
    "                        new_sentence.append(tag)\n",
    "                    except KeyError:\n",
    "                        faild_words.append(word)\n",
    "                        faild_tags.append(sentence[1][i])\n",
    "                        flag = False\n",
    "    \n",
    "    if flag == True:\n",
    "        w2v_data.append((new_sentence, sentence[1]))\n"
   ]
  },
  {
   "cell_type": "code",
   "execution_count": 15,
   "metadata": {},
   "outputs": [
    {
     "data": {
      "text/plain": [
       "77098"
      ]
     },
     "execution_count": 15,
     "metadata": {},
     "output_type": "execute_result"
    }
   ],
   "source": [
    "data = w2v_data\n",
    "len(data)"
   ]
  },
  {
   "cell_type": "code",
   "execution_count": null,
   "metadata": {},
   "outputs": [],
   "source": []
  },
  {
   "cell_type": "markdown",
   "metadata": {},
   "source": [
    "## REAPIR!"
   ]
  },
  {
   "cell_type": "code",
   "execution_count": 16,
   "metadata": {},
   "outputs": [],
   "source": [
    "# create dicts!\n",
    "\n",
    "failw = {}\n",
    "for fail in faild_words:\n",
    "    try:\n",
    "        failw[fail] += 1\n",
    "    except:\n",
    "        failw[fail] = 1     \n",
    "        \n",
    "failt = {}\n",
    "for fail in faild_tags:\n",
    "    try:\n",
    "        failt[fail] += 1\n",
    "    except:\n",
    "        failt[fail] = 1"
   ]
  },
  {
   "cell_type": "code",
   "execution_count": 17,
   "metadata": {},
   "outputs": [
    {
     "data": {
      "text/plain": [
       "[('«', 528),\n",
       " ('»', 235),\n",
       " ('20', 225),\n",
       " ('12', 214),\n",
       " ('15', 206),\n",
       " ('2002', 202),\n",
       " ('2003', 184),\n",
       " ('30', 179),\n",
       " ('11', 177),\n",
       " ('50', 154)]"
      ]
     },
     "execution_count": 17,
     "metadata": {},
     "output_type": "execute_result"
    }
   ],
   "source": [
    "sorted_x = sorted(failw.items(), key=lambda kv: kv[1], reverse=True)\n",
    "sorted_x[:10]"
   ]
  },
  {
   "cell_type": "code",
   "execution_count": 18,
   "metadata": {},
   "outputs": [
    {
     "data": {
      "text/plain": [
       "[('NUM', 8628),\n",
       " ('NOUN', 3261),\n",
       " ('ADJ', 2725),\n",
       " ('PUNCT', 1707),\n",
       " ('VERB', 305),\n",
       " ('ADV', 103),\n",
       " ('X', 80),\n",
       " ('PART', 27),\n",
       " ('INTJ', 19),\n",
       " ('DET', 6),\n",
       " ('PRON', 1)]"
      ]
     },
     "execution_count": 18,
     "metadata": {},
     "output_type": "execute_result"
    }
   ],
   "source": [
    "sorted_y = sorted(failt.items(), key=lambda kv: kv[1], reverse=True)\n",
    "sorted_y"
   ]
  },
  {
   "cell_type": "code",
   "execution_count": null,
   "metadata": {},
   "outputs": [],
   "source": []
  },
  {
   "cell_type": "code",
   "execution_count": 19,
   "metadata": {},
   "outputs": [],
   "source": [
    "# create dicts!\n",
    "\n",
    "tag_count = {}\n",
    "for sent, tags in data:\n",
    "\n",
    "    for tag in tags:\n",
    "        \n",
    "        try:\n",
    "            tag_count[tag] += 1\n",
    "        except:\n",
    "            tag_count[tag] = 1       \n"
   ]
  },
  {
   "cell_type": "code",
   "execution_count": 20,
   "metadata": {},
   "outputs": [
    {
     "data": {
      "text/plain": [
       "{'PUNCT': 203016,\n",
       " 'NUM': 12909,\n",
       " 'VERB': 121230,\n",
       " 'NOUN': 214176,\n",
       " 'ADV': 62094,\n",
       " 'PART': 36821,\n",
       " 'CONJ': 60130,\n",
       " 'DET': 37938,\n",
       " 'PRON': 62164,\n",
       " 'ADJ': 68525,\n",
       " 'ADP': 75795,\n",
       " 'INTJ': 884,\n",
       " 'PROPN': 2255,\n",
       " 'X': 4467}"
      ]
     },
     "execution_count": 20,
     "metadata": {},
     "output_type": "execute_result"
    }
   ],
   "source": [
    "tag_count"
   ]
  },
  {
   "cell_type": "code",
   "execution_count": null,
   "metadata": {},
   "outputs": [],
   "source": []
  },
  {
   "cell_type": "markdown",
   "metadata": {},
   "source": [
    "### Train_test split"
   ]
  },
  {
   "cell_type": "code",
   "execution_count": 21,
   "metadata": {},
   "outputs": [
    {
     "name": "stdout",
     "output_type": "stream",
     "text": [
      "37045 14\n"
     ]
    }
   ],
   "source": [
    "# create dicts!\n",
    "\n",
    "word_to_ix = {}\n",
    "tag_to_ix = {}\n",
    "for sent, tags in data:\n",
    "    for word in sent:\n",
    "        if word not in word_to_ix:\n",
    "            word_to_ix[word] = len(word_to_ix)\n",
    "            \n",
    "    for tag in tags:\n",
    "        if tag not in tag_to_ix:\n",
    "            tag_to_ix[tag] = len(tag_to_ix)        \n",
    "print(len(word_to_ix), len(tag_to_ix))"
   ]
  },
  {
   "cell_type": "code",
   "execution_count": 23,
   "metadata": {},
   "outputs": [
    {
     "name": "stdout",
     "output_type": "stream",
     "text": [
      "61678 15420\n"
     ]
    }
   ],
   "source": [
    "from sklearn.model_selection import train_test_split\n",
    "num_of_test = 0.2\n",
    "\n",
    "train_data, test_data = train_test_split(data, test_size = num_of_test, random_state = 12345)\n",
    "print(len(train_data), len(test_data))"
   ]
  },
  {
   "cell_type": "code",
   "execution_count": null,
   "metadata": {},
   "outputs": [],
   "source": []
  },
  {
   "cell_type": "markdown",
   "metadata": {},
   "source": [
    "# Train the model:\n",
    "\n"
   ]
  },
  {
   "cell_type": "code",
   "execution_count": 24,
   "metadata": {},
   "outputs": [],
   "source": [
    "class LSTMTagger(nn.Module):\n",
    "\n",
    "    def __init__(self, hidden_dim1, hidden_dim2, tagset_size):\n",
    "        super(LSTMTagger, self).__init__()\n",
    "        self.hidden_dim1 = hidden_dim1\n",
    "        self.hidden_dim2 = hidden_dim2\n",
    "        \n",
    "        #self.word_embeddings = nn.Embedding(vocab_size, embedding_dim)\n",
    "\n",
    "        # The LSTM takes word embeddings as inputs, and outputs hidden states\n",
    "        # with dimensionality hidden_dim1.\n",
    "        self.lstm = nn.LSTM(500, hidden_dim1, bidirectional=True)\n",
    "\n",
    "        self.lstm2 = nn.LSTM(hidden_dim1 * 2, hidden_dim2, bidirectional=True)\n",
    "\n",
    "        # The linear layer that maps from hidden state space to tag space\n",
    "        self.hidden2tag = nn.Linear(hidden_dim2 * 2, tagset_size)\n",
    "        self.hidden1 = self.init_hidden1()\n",
    "        self.hidden2 = self.init_hidden2()\n",
    "\n",
    "    def init_hidden1(self):\n",
    "\n",
    "        return (torch.zeros(2, 1, self.hidden_dim1),\n",
    "                torch.zeros(2, 1, self.hidden_dim1))\n",
    "\n",
    "    def init_hidden2(self):\n",
    "\n",
    "        return (torch.zeros(2, 1, self.hidden_dim2),\n",
    "                torch.zeros(2, 1, self.hidden_dim2))\n",
    "\n",
    "    def forward(self, sentence):\n",
    "        \n",
    "        lstm_out, self.hidden = self.lstm(\n",
    "            sentence, self.hidden1)\n",
    "\n",
    "        lstm_out2, self.hidden = self.lstm2(\n",
    "            lstm_out.view(len(sentence), 1, -1), self.hidden2)\n",
    "\n",
    "        tag_space = self.hidden2tag(lstm_out2.view(len(sentence), -1))\n",
    "        tag_scores = F.log_softmax(tag_space, dim=1)\n",
    "        return tag_scores"
   ]
  },
  {
   "cell_type": "code",
   "execution_count": null,
   "metadata": {},
   "outputs": [],
   "source": []
  },
  {
   "cell_type": "markdown",
   "metadata": {},
   "source": [
    "## Funcs"
   ]
  },
  {
   "cell_type": "code",
   "execution_count": 25,
   "metadata": {},
   "outputs": [],
   "source": [
    "def train(sentence, tag):\n",
    "    model.zero_grad()\n",
    "\n",
    "    sentence_in = torch.Tensor(word_vectors[sentence])\n",
    "    sentence_in = sentence_in.view(len(sentence), 1, -1)\n",
    "    \n",
    "    targets = prepare_sequence(tag, tag_to_ix)\n",
    "\n",
    "    # forward pass\n",
    "    tag_scores = model(sentence_in)\n",
    "\n",
    "    # loss and backward\n",
    "    loss = loss_function(tag_scores, targets)\n",
    "    \n",
    "    loss.backward()\n",
    "    \n",
    "    loss.detach_()\n",
    "    optimizer.step()\n",
    "        \n",
    "    return tag_scores, loss"
   ]
  },
  {
   "cell_type": "code",
   "execution_count": 26,
   "metadata": {},
   "outputs": [],
   "source": [
    "from sklearn.metrics import accuracy_score\n",
    "\n",
    "def evaluate(num_iter = 100):\n",
    "    with torch.no_grad():\n",
    "        \n",
    "        main_score = 0\n",
    "        for i in range(num_iter):\n",
    "            rng = np.random.randint(len(test_data))\n",
    "            \n",
    "            sentence = test_data[rng][0]\n",
    "            \n",
    "            sentence_in = torch.Tensor(word_vectors[sentence])\n",
    "            sentence_in = sentence_in.view(len(sentence), 1, -1)\n",
    "\n",
    "            output = model(sentence_in)\n",
    "            \n",
    "            # get top\n",
    "            topv, topi = output.topk(1)\n",
    "            true_values = prepare_sequence(test_data[rng][1], tag_to_ix)\n",
    "\n",
    "            score = accuracy_score(true_values, topi)\n",
    "            main_score += score\n",
    "\n",
    "        \n",
    "        return main_score / num_iter"
   ]
  },
  {
   "cell_type": "code",
   "execution_count": 27,
   "metadata": {},
   "outputs": [],
   "source": [
    "def total_evaluate():\n",
    "    with torch.no_grad():\n",
    "        \n",
    "        main_score = 0\n",
    "        for i in range(len(test_data)):\n",
    "            sentence = test_data[i][0]\n",
    "            sentence_in = torch.Tensor(word_vectors[sentence])\n",
    "            sentence_in = sentence_in.view(len(sentence), 1, -1)\n",
    "\n",
    "            output = model(sentence_in)\n",
    "\n",
    "            # get top\n",
    "            topv, topi = output.topk(1)\n",
    "            true_values = prepare_sequence(test_data[i][1], tag_to_ix)\n",
    "\n",
    "            score = accuracy_score(true_values, topi)\n",
    "            main_score += score\n",
    "\n",
    "        \n",
    "        return main_score / len(test_data)"
   ]
  },
  {
   "cell_type": "code",
   "execution_count": 28,
   "metadata": {},
   "outputs": [],
   "source": [
    "def train_rng():\n",
    "    \n",
    "    rng = np.random.randint(len(train_data))\n",
    "    \n",
    "    sentence = train_data[rng][0]\n",
    "    tag = train_data[rng][1]\n",
    "    \n",
    "    return sentence, tag"
   ]
  },
  {
   "cell_type": "code",
   "execution_count": 29,
   "metadata": {},
   "outputs": [],
   "source": [
    "import time\n",
    "import math\n",
    "\n",
    "def timeSince(since):\n",
    "    now = time.time()\n",
    "    s = now - since\n",
    "    m = math.floor(s / 60)\n",
    "    s -= m * 60\n",
    "    return '%dm %ds' % (m, s)"
   ]
  },
  {
   "cell_type": "markdown",
   "metadata": {},
   "source": [
    "## GONNA TRAIN!"
   ]
  },
  {
   "cell_type": "code",
   "execution_count": 30,
   "metadata": {},
   "outputs": [],
   "source": [
    "HIDDEN_DIM = 300\n",
    "HIDDEN_DIM2 = 300\n",
    "\n",
    "model = LSTMTagger(HIDDEN_DIM, HIDDEN_DIM2, len(tag_to_ix))\n",
    "loss_function = nn.NLLLoss()\n",
    "\n",
    "all_losses = []"
   ]
  },
  {
   "cell_type": "code",
   "execution_count": 31,
   "metadata": {
    "scrolled": true
   },
   "outputs": [
    {
     "name": "stdout",
     "output_type": "stream",
     "text": [
      "300 1% (0m 24s) loss: 2.1011 accuracy on test: 0.3114\n",
      "600 3% (0m 52s) loss: 1.9640 accuracy on test: 0.3378\n",
      "900 4% (1m 22s) loss: 1.6343 accuracy on test: 0.4528\n",
      "1200 6% (1m 49s) loss: 1.3471 accuracy on test: 0.5307\n",
      "1500 7% (2m 15s) loss: 1.0850 accuracy on test: 0.6533\n",
      "1800 9% (2m 42s) loss: 0.8184 accuracy on test: 0.7953\n",
      "2100 10% (3m 9s) loss: 0.5965 accuracy on test: 0.8146\n",
      "2400 12% (3m 36s) loss: 0.5747 accuracy on test: 0.8309\n",
      "2700 13% (4m 5s) loss: 0.4380 accuracy on test: 0.8707\n",
      "3000 15% (4m 32s) loss: 0.4132 accuracy on test: 0.8987\n",
      "3300 16% (4m 58s) loss: 0.3027 accuracy on test: 0.8904\n",
      "3600 18% (5m 24s) loss: 0.3471 accuracy on test: 0.8765\n",
      "3900 19% (5m 53s) loss: 0.2798 accuracy on test: 0.9099\n",
      "4200 21% (6m 27s) loss: 0.2311 accuracy on test: 0.9321\n",
      "4500 22% (6m 57s) loss: 0.2018 accuracy on test: 0.9546\n",
      "4800 24% (7m 26s) loss: 0.2131 accuracy on test: 0.9361\n",
      "5100 25% (7m 56s) loss: 0.1745 accuracy on test: 0.9449\n",
      "5400 27% (8m 25s) loss: 0.1456 accuracy on test: 0.9442\n",
      "5700 28% (8m 56s) loss: 0.1575 accuracy on test: 0.9418\n",
      "6000 30% (9m 24s) loss: 0.1415 accuracy on test: 0.9545\n",
      "6300 31% (9m 54s) loss: 0.1775 accuracy on test: 0.9656\n",
      "6600 33% (10m 23s) loss: 0.1627 accuracy on test: 0.9604\n",
      "6900 34% (10m 51s) loss: 0.1450 accuracy on test: 0.9579\n",
      "7200 36% (11m 19s) loss: 0.1270 accuracy on test: 0.9600\n",
      "7500 37% (11m 47s) loss: 0.1300 accuracy on test: 0.9473\n",
      "7800 39% (12m 16s) loss: 0.1318 accuracy on test: 0.9583\n",
      "8100 40% (12m 45s) loss: 0.1225 accuracy on test: 0.9526\n",
      "8400 42% (13m 14s) loss: 0.1368 accuracy on test: 0.9616\n",
      "8700 43% (13m 43s) loss: 0.1227 accuracy on test: 0.9665\n",
      "9000 45% (14m 13s) loss: 0.0870 accuracy on test: 0.9647\n",
      "9300 46% (14m 44s) loss: 0.1192 accuracy on test: 0.9583\n",
      "9600 48% (15m 11s) loss: 0.1158 accuracy on test: 0.9603\n",
      "9900 49% (15m 40s) loss: 0.1350 accuracy on test: 0.9493\n",
      "10200 51% (16m 7s) loss: 0.1341 accuracy on test: 0.9660\n",
      "10500 52% (16m 36s) loss: 0.0803 accuracy on test: 0.9727\n",
      "10800 54% (17m 3s) loss: 0.0639 accuracy on test: 0.9757\n",
      "11100 55% (17m 29s) loss: 0.0738 accuracy on test: 0.9584\n",
      "11400 56% (17m 56s) loss: 0.0693 accuracy on test: 0.9661\n",
      "11700 58% (18m 22s) loss: 0.0855 accuracy on test: 0.9594\n",
      "12000 60% (18m 49s) loss: 0.0777 accuracy on test: 0.9681\n",
      "12300 61% (19m 18s) loss: 0.0732 accuracy on test: 0.9662\n",
      "12600 63% (19m 45s) loss: 0.0774 accuracy on test: 0.9690\n",
      "12900 64% (20m 12s) loss: 0.0812 accuracy on test: 0.9733\n",
      "13200 66% (20m 39s) loss: 0.1056 accuracy on test: 0.9843\n",
      "13500 67% (21m 5s) loss: 0.0982 accuracy on test: 0.9781\n",
      "13800 69% (21m 33s) loss: 0.0958 accuracy on test: 0.9781\n",
      "14100 70% (22m 3s) loss: 0.1099 accuracy on test: 0.9726\n",
      "14400 72% (22m 31s) loss: 0.1157 accuracy on test: 0.9659\n",
      "14700 73% (23m 0s) loss: 0.1184 accuracy on test: 0.9740\n",
      "15000 75% (23m 30s) loss: 0.0742 accuracy on test: 0.9785\n",
      "15300 76% (23m 56s) loss: 0.0771 accuracy on test: 0.9831\n",
      "15600 78% (24m 28s) loss: 0.0742 accuracy on test: 0.9764\n",
      "15900 79% (24m 58s) loss: 0.0998 accuracy on test: 0.9708\n",
      "16200 81% (25m 25s) loss: 0.1072 accuracy on test: 0.9794\n",
      "16500 82% (25m 51s) loss: 0.0598 accuracy on test: 0.9758\n",
      "16800 84% (26m 19s) loss: 0.0474 accuracy on test: 0.9637\n",
      "17100 85% (26m 45s) loss: 0.0968 accuracy on test: 0.9599\n",
      "17400 87% (27m 11s) loss: 0.0829 accuracy on test: 0.9752\n",
      "17700 88% (27m 36s) loss: 0.0609 accuracy on test: 0.9809\n",
      "18000 90% (28m 5s) loss: 0.1055 accuracy on test: 0.9670\n",
      "18300 91% (28m 34s) loss: 0.0812 accuracy on test: 0.9705\n",
      "18600 93% (29m 0s) loss: 0.0775 accuracy on test: 0.9719\n",
      "18900 94% (29m 30s) loss: 0.0953 accuracy on test: 0.9690\n",
      "19200 96% (29m 59s) loss: 0.1039 accuracy on test: 0.9764\n",
      "19500 97% (30m 26s) loss: 0.0614 accuracy on test: 0.9808\n",
      "19800 99% (30m 55s) loss: 0.1258 accuracy on test: 0.9730\n"
     ]
    }
   ],
   "source": [
    "learning_rate = 0.1\n",
    "\n",
    "optimizer = optim.SGD(model.parameters(), lr=learning_rate)\n",
    "\n",
    "n_iters = 20000 \n",
    "\n",
    "plot_every = 100\n",
    "print_every = 300\n",
    "\n",
    "current_loss = 0\n",
    "start = time.time()\n",
    "\n",
    "model.hidden1 = model.init_hidden1()\n",
    "model.hidden2 = model.init_hidden2()\n",
    "\n",
    "for i in range(1, n_iters + 1):\n",
    "        \n",
    "    se, tag = train_rng()\n",
    "    out, loss = train(se, tag)\n",
    "    current_loss += loss\n",
    "    \n",
    "    if i % print_every == 0:\n",
    "        print('%d %d%% (%s) loss: %.4f accuracy on test: %.4f' % (i, i / n_iters * 100, \n",
    "                                                                  timeSince(start), current_loss / plot_every, evaluate()))\n",
    "    \n",
    "    if i % plot_every == 0:\n",
    "        all_losses.append(current_loss / plot_every)\n",
    "        current_loss = 0"
   ]
  },
  {
   "cell_type": "code",
   "execution_count": 32,
   "metadata": {},
   "outputs": [
    {
     "name": "stdout",
     "output_type": "stream",
     "text": [
      "0.9681596048194253\n"
     ]
    },
    {
     "data": {
      "image/png": "[encoded data removed]",
      "text/plain": [
       "<Figure size 432x288 with 1 Axes>"
      ]
     },
     "metadata": {
      "needs_background": "light"
     },
     "output_type": "display_data"
    }
   ],
   "source": [
    "import matplotlib.pyplot as plt\n",
    "\n",
    "print(total_evaluate())\n",
    "\n",
    "plt.plot(all_losses)\n",
    "plt.show()"
   ]
  },
  {
   "cell_type": "code",
   "execution_count": null,
   "metadata": {},
   "outputs": [],
   "source": []
  },
  {
   "cell_type": "code",
   "execution_count": 36,
   "metadata": {
    "scrolled": true
   },
   "outputs": [
    {
     "name": "stdout",
     "output_type": "stream",
     "text": [
      "300 2% (0m 29s) loss: 0.0758 accuracy on test: 0.9782\n",
      "600 4% (0m 55s) loss: 0.0768 accuracy on test: 0.9768\n",
      "900 6% (1m 21s) loss: 0.0567 accuracy on test: 0.9769\n",
      "1200 8% (1m 47s) loss: 0.0630 accuracy on test: 0.9734\n",
      "1500 10% (2m 14s) loss: 0.0675 accuracy on test: 0.9726\n",
      "1800 12% (2m 41s) loss: 0.0737 accuracy on test: 0.9700\n",
      "2100 14% (3m 8s) loss: 0.0647 accuracy on test: 0.9839\n",
      "2400 16% (3m 37s) loss: 0.0597 accuracy on test: 0.9891\n",
      "2700 18% (4m 4s) loss: 0.0465 accuracy on test: 0.9861\n",
      "3000 20% (4m 34s) loss: 0.1212 accuracy on test: 0.9832\n",
      "3300 22% (5m 0s) loss: 0.0782 accuracy on test: 0.9830\n",
      "3600 24% (5m 27s) loss: 0.0873 accuracy on test: 0.9813\n",
      "3900 26% (5m 53s) loss: 0.0533 accuracy on test: 0.9848\n",
      "4200 28% (6m 21s) loss: 0.0826 accuracy on test: 0.9785\n",
      "4500 30% (6m 47s) loss: 0.0565 accuracy on test: 0.9676\n",
      "4800 32% (7m 15s) loss: 0.1637 accuracy on test: 0.9715\n",
      "5100 34% (7m 43s) loss: 0.0463 accuracy on test: 0.9827\n",
      "5400 36% (8m 8s) loss: 0.0535 accuracy on test: 0.9761\n",
      "5700 38% (8m 37s) loss: 0.0479 accuracy on test: 0.9710\n",
      "6000 40% (9m 5s) loss: 0.0832 accuracy on test: 0.9715\n",
      "6300 42% (9m 32s) loss: 0.0861 accuracy on test: 0.9784\n",
      "6600 44% (9m 58s) loss: 0.0674 accuracy on test: 0.9802\n",
      "6900 46% (10m 24s) loss: 0.0556 accuracy on test: 0.9838\n",
      "7200 48% (10m 51s) loss: 0.0384 accuracy on test: 0.9779\n",
      "7500 50% (11m 19s) loss: 0.0403 accuracy on test: 0.9752\n",
      "7800 52% (11m 47s) loss: 0.0612 accuracy on test: 0.9755\n",
      "8100 54% (12m 16s) loss: 0.0634 accuracy on test: 0.9729\n",
      "8400 56% (12m 42s) loss: 0.0423 accuracy on test: 0.9716\n",
      "8700 57% (13m 11s) loss: 0.0506 accuracy on test: 0.9827\n",
      "9000 60% (13m 38s) loss: 0.0449 accuracy on test: 0.9826\n",
      "9300 62% (14m 5s) loss: 0.0807 accuracy on test: 0.9735\n",
      "9600 64% (14m 34s) loss: 0.0886 accuracy on test: 0.9736\n",
      "9900 66% (15m 1s) loss: 0.0631 accuracy on test: 0.9871\n",
      "10200 68% (15m 27s) loss: 0.0424 accuracy on test: 0.9760\n",
      "10500 70% (15m 56s) loss: 0.0479 accuracy on test: 0.9769\n",
      "10800 72% (16m 21s) loss: 0.0328 accuracy on test: 0.9823\n",
      "11100 74% (16m 49s) loss: 0.1123 accuracy on test: 0.9814\n",
      "11400 76% (17m 16s) loss: 0.0742 accuracy on test: 0.9849\n",
      "11700 78% (17m 46s) loss: 0.0702 accuracy on test: 0.9758\n",
      "12000 80% (18m 13s) loss: 0.0755 accuracy on test: 0.9788\n",
      "12300 82% (18m 41s) loss: 0.0417 accuracy on test: 0.9698\n",
      "12600 84% (19m 11s) loss: 0.0659 accuracy on test: 0.9825\n",
      "12900 86% (19m 39s) loss: 0.0658 accuracy on test: 0.9811\n",
      "13200 88% (20m 5s) loss: 0.0742 accuracy on test: 0.9772\n",
      "13500 90% (20m 34s) loss: 0.0496 accuracy on test: 0.9850\n",
      "13800 92% (21m 1s) loss: 0.0363 accuracy on test: 0.9706\n",
      "14100 94% (21m 27s) loss: 0.1349 accuracy on test: 0.9797\n",
      "14400 96% (21m 54s) loss: 0.0598 accuracy on test: 0.9770\n",
      "14700 98% (22m 24s) loss: 0.0912 accuracy on test: 0.9814\n",
      "15000 100% (22m 58s) loss: 0.0480 accuracy on test: 0.9845\n"
     ]
    }
   ],
   "source": [
    "learning_rate = 0.05\n",
    "\n",
    "optimizer = optim.SGD(model.parameters(), lr=learning_rate)\n",
    "\n",
    "n_iters = 15000 \n",
    "\n",
    "plot_every = 100\n",
    "print_every = 300\n",
    "\n",
    "current_loss = 0\n",
    "start = time.time()\n",
    "\n",
    "model.hidden1 = model.init_hidden1()\n",
    "model.hidden2 = model.init_hidden2()\n",
    "\n",
    "for i in range(1, n_iters + 1):\n",
    "        \n",
    "    se, tag = train_rng()\n",
    "    out, loss = train(se, tag)\n",
    "    current_loss += loss\n",
    "    \n",
    "    if i % print_every == 0:\n",
    "        print('%d %d%% (%s) loss: %.4f accuracy on test: %.4f' % (i, i / n_iters * 100, \n",
    "                                                                  timeSince(start), current_loss / plot_every, evaluate()))\n",
    "    \n",
    "    if i % plot_every == 0:\n",
    "        all_losses.append(current_loss / plot_every)\n",
    "        current_loss = 0"
   ]
  },
  {
   "cell_type": "code",
   "execution_count": 37,
   "metadata": {},
   "outputs": [
    {
     "name": "stdout",
     "output_type": "stream",
     "text": [
      "0.9800449667464888\n"
     ]
    },
    {
     "data": {
      "image/png": "[encoded data removed]",
      "text/plain": [
       "<Figure size 432x288 with 1 Axes>"
      ]
     },
     "metadata": {
      "needs_background": "light"
     },
     "output_type": "display_data"
    }
   ],
   "source": [
    "import matplotlib.pyplot as plt\n",
    "\n",
    "print(total_evaluate())\n",
    "\n",
    "plt.plot(all_losses)\n",
    "plt.show()"
   ]
  },
  {
   "cell_type": "code",
   "execution_count": null,
   "metadata": {},
   "outputs": [],
   "source": []
  },
  {
   "cell_type": "code",
   "execution_count": 38,
   "metadata": {
    "scrolled": true
   },
   "outputs": [
    {
     "name": "stdout",
     "output_type": "stream",
     "text": [
      "300 2% (0m 27s) loss: 0.1159 accuracy on test: 0.9834\n",
      "600 4% (0m 57s) loss: 0.0487 accuracy on test: 0.9853\n",
      "900 6% (1m 25s) loss: 0.0660 accuracy on test: 0.9818\n",
      "1200 8% (1m 58s) loss: 0.0638 accuracy on test: 0.9828\n",
      "1500 10% (2m 30s) loss: 0.0614 accuracy on test: 0.9765\n",
      "1800 12% (3m 2s) loss: 0.0527 accuracy on test: 0.9843\n",
      "2100 14% (3m 33s) loss: 0.0567 accuracy on test: 0.9732\n",
      "2400 16% (4m 5s) loss: 0.0359 accuracy on test: 0.9816\n",
      "2700 18% (4m 37s) loss: 0.0467 accuracy on test: 0.9796\n",
      "3000 20% (5m 9s) loss: 0.0435 accuracy on test: 0.9828\n",
      "3300 22% (5m 36s) loss: 0.0568 accuracy on test: 0.9755\n",
      "3600 24% (6m 7s) loss: 0.0625 accuracy on test: 0.9846\n",
      "3900 26% (6m 36s) loss: 0.0583 accuracy on test: 0.9787\n",
      "4200 28% (7m 5s) loss: 0.0619 accuracy on test: 0.9815\n",
      "4500 30% (7m 34s) loss: 0.0626 accuracy on test: 0.9881\n",
      "4800 32% (8m 5s) loss: 0.0553 accuracy on test: 0.9820\n",
      "5100 34% (8m 37s) loss: 0.0944 accuracy on test: 0.9700\n",
      "5400 36% (9m 3s) loss: 0.0540 accuracy on test: 0.9861\n",
      "5700 38% (9m 31s) loss: 0.0579 accuracy on test: 0.9830\n",
      "6000 40% (9m 59s) loss: 0.0343 accuracy on test: 0.9804\n",
      "6300 42% (10m 27s) loss: 0.0647 accuracy on test: 0.9784\n",
      "6600 44% (10m 53s) loss: 0.0490 accuracy on test: 0.9829\n",
      "6900 46% (11m 20s) loss: 0.0579 accuracy on test: 0.9899\n",
      "7200 48% (11m 48s) loss: 0.0605 accuracy on test: 0.9786\n",
      "7500 50% (12m 16s) loss: 0.0544 accuracy on test: 0.9826\n",
      "7800 52% (12m 42s) loss: 0.0722 accuracy on test: 0.9802\n",
      "8100 54% (13m 12s) loss: 0.0377 accuracy on test: 0.9765\n",
      "8400 56% (13m 42s) loss: 0.0437 accuracy on test: 0.9826\n",
      "8700 57% (14m 8s) loss: 0.0414 accuracy on test: 0.9755\n",
      "9000 60% (14m 36s) loss: 0.0253 accuracy on test: 0.9804\n",
      "9300 62% (15m 5s) loss: 0.0789 accuracy on test: 0.9743\n",
      "9600 64% (15m 36s) loss: 0.0501 accuracy on test: 0.9820\n",
      "9900 66% (16m 4s) loss: 0.0428 accuracy on test: 0.9843\n",
      "10200 68% (16m 31s) loss: 0.1268 accuracy on test: 0.9750\n",
      "10500 70% (16m 57s) loss: 0.0407 accuracy on test: 0.9838\n",
      "10800 72% (17m 24s) loss: 0.0635 accuracy on test: 0.9769\n",
      "11100 74% (17m 52s) loss: 0.0581 accuracy on test: 0.9806\n",
      "11400 76% (18m 19s) loss: 0.0543 accuracy on test: 0.9850\n",
      "11700 78% (18m 46s) loss: 0.0471 accuracy on test: 0.9833\n",
      "12000 80% (19m 13s) loss: 0.0599 accuracy on test: 0.9770\n",
      "12300 82% (19m 43s) loss: 0.0590 accuracy on test: 0.9877\n",
      "12600 84% (20m 11s) loss: 0.0336 accuracy on test: 0.9811\n",
      "12900 86% (20m 37s) loss: 0.0365 accuracy on test: 0.9822\n",
      "13200 88% (21m 4s) loss: 0.0341 accuracy on test: 0.9824\n",
      "13500 90% (21m 31s) loss: 0.0453 accuracy on test: 0.9850\n",
      "13800 92% (21m 57s) loss: 0.0262 accuracy on test: 0.9761\n",
      "14100 94% (22m 25s) loss: 0.0589 accuracy on test: 0.9858\n",
      "14400 96% (22m 54s) loss: 0.0345 accuracy on test: 0.9827\n",
      "14700 98% (23m 20s) loss: 0.0630 accuracy on test: 0.9892\n",
      "15000 100% (23m 46s) loss: 0.1187 accuracy on test: 0.9787\n"
     ]
    }
   ],
   "source": [
    "learning_rate = 0.01\n",
    "\n",
    "optimizer = optim.SGD(model.parameters(), lr=learning_rate)\n",
    "\n",
    "n_iters = 15000 \n",
    "\n",
    "plot_every = 100\n",
    "print_every = 300\n",
    "\n",
    "current_loss = 0\n",
    "start = time.time()\n",
    "\n",
    "model.hidden1 = model.init_hidden1()\n",
    "model.hidden2 = model.init_hidden2()\n",
    "\n",
    "for i in range(1, n_iters + 1):\n",
    "        \n",
    "    se, tag = train_rng()\n",
    "    out, loss = train(se, tag)\n",
    "    current_loss += loss\n",
    "    \n",
    "    if i % print_every == 0:\n",
    "        print('%d %d%% (%s) loss: %.4f accuracy on test: %.4f' % (i, i / n_iters * 100, \n",
    "                                                                  timeSince(start), current_loss / plot_every, evaluate()))\n",
    "    \n",
    "    if i % plot_every == 0:\n",
    "        all_losses.append(current_loss / plot_every)\n",
    "        current_loss = 0"
   ]
  },
  {
   "cell_type": "code",
   "execution_count": 39,
   "metadata": {},
   "outputs": [
    {
     "name": "stdout",
     "output_type": "stream",
     "text": [
      "0.981814511123551\n"
     ]
    },
    {
     "data": {
      "image/png": "[encoded data removed]",
      "text/plain": [
       "<Figure size 432x288 with 1 Axes>"
      ]
     },
     "metadata": {
      "needs_background": "light"
     },
     "output_type": "display_data"
    }
   ],
   "source": [
    "import matplotlib.pyplot as plt\n",
    "\n",
    "print(total_evaluate())\n",
    "\n",
    "plt.plot(all_losses)\n",
    "plt.show()"
   ]
  },
  {
   "cell_type": "code",
   "execution_count": null,
   "metadata": {},
   "outputs": [],
   "source": []
  },
  {
   "cell_type": "code",
   "execution_count": null,
   "metadata": {},
   "outputs": [],
   "source": []
  },
  {
   "cell_type": "markdown",
   "metadata": {},
   "source": [
    "## Save and load models"
   ]
  },
  {
   "cell_type": "code",
   "execution_count": 43,
   "metadata": {},
   "outputs": [],
   "source": [
    "path = 'Data/Models/pos-tag_universal'\n",
    "\n",
    "torch.save(model.state_dict(), path)"
   ]
  },
  {
   "cell_type": "code",
   "execution_count": 27,
   "metadata": {},
   "outputs": [
    {
     "data": {
      "text/plain": [
       "LSTMTagger(\n",
       "  (word_embeddings): Embedding(50806, 64)\n",
       "  (lstm): LSTM(64, 128)\n",
       "  (hidden2tag): Linear(in_features=128, out_features=19, bias=True)\n",
       ")"
      ]
     },
     "execution_count": 27,
     "metadata": {},
     "output_type": "execute_result"
    }
   ],
   "source": [
    "model = LSTMTagger(HIDDEN_DIM, HIDDEN_DIM2, len(tag_to_ix))\n",
    "model.load_state_dict(torch.load(path))\n",
    "model.eval()"
   ]
  },
  {
   "cell_type": "code",
   "execution_count": null,
   "metadata": {},
   "outputs": [],
   "source": []
  },
  {
   "cell_type": "code",
   "execution_count": null,
   "metadata": {},
   "outputs": [],
   "source": []
  },
  {
   "cell_type": "markdown",
   "metadata": {},
   "source": [
    "## confusion matrix"
   ]
  },
  {
   "cell_type": "code",
   "execution_count": 40,
   "metadata": {},
   "outputs": [],
   "source": [
    "all_categories = list(tag_to_ix)\n",
    "n_categories = len(all_categories)\n",
    "\n",
    "# Keep track of correct guesses in a confusion matrix\n",
    "confusion = torch.zeros(n_categories, n_categories) \n",
    "\n",
    "n_confusion = 1000\n",
    "y_train = []\n",
    "y_test = []\n",
    "with torch.no_grad():\n",
    "    for i in range(len(test_data)):\n",
    "        try:\n",
    "            \n",
    "            sentence = test_data[i][0]\n",
    "            \n",
    "            sentence_in = np.empty((len(sentence), 500))\n",
    "            for j in range(len(sentence)):\n",
    "                sentence_in[j] = word_vectors[sentence[j]]\n",
    "\n",
    "            sentence_in = torch.Tensor(sentence_in)\n",
    "            sentence_in = sentence_in.view(len(sentence), 1, -1)\n",
    "\n",
    "            output = model(sentence_in)\n",
    "\n",
    "            # get top\n",
    "            topv, topi = output.topk(1)\n",
    "            true_values = prepare_sequence(test_data[i][1], tag_to_ix)\n",
    "\n",
    "            for j in range(len(true_values)):\n",
    "                confusion[true_values[j]][topi[j]] += 1 # инк ячейку\n",
    "                y_train.append(topi[j].item())\n",
    "                y_test.append(true_values[j].item())\n",
    "        except RuntimeError:\n",
    "            pass\n",
    "            \n",
    "normalize_confusion = torch.clone(confusion)\n",
    "# Normalize \n",
    "for i in range(n_categories):\n",
    "    normalize_confusion[i] = normalize_confusion[i] / normalize_confusion[i].sum()"
   ]
  },
  {
   "cell_type": "code",
   "execution_count": 41,
   "metadata": {},
   "outputs": [
    {
     "data": {
      "image/png": "[encoded data removed]",
      "text/plain": [
       "<Figure size 936x936 with 2 Axes>"
      ]
     },
     "metadata": {
      "needs_background": "light"
     },
     "output_type": "display_data"
    }
   ],
   "source": [
    "from matplotlib import ticker\n",
    "\n",
    "# Set up plot\n",
    "fig = plt.figure(figsize=(13, 13))\n",
    "ax = fig.add_subplot(111)\n",
    "cax = ax.matshow(normalize_confusion.numpy())\n",
    "fig.colorbar(cax)\n",
    "\n",
    "# Set up axes\n",
    "ax.set_xticklabels([''] + all_categories, rotation=90)\n",
    "ax.set_yticklabels([''] + all_categories)\n",
    "\n",
    "# Force label at every tick\n",
    "ax.xaxis.set_major_locator(ticker.MultipleLocator(1))\n",
    "ax.yaxis.set_major_locator(ticker.MultipleLocator(1))\n",
    "\n",
    "plt.show()"
   ]
  },
  {
   "cell_type": "code",
   "execution_count": 42,
   "metadata": {},
   "outputs": [
    {
     "name": "stdout",
     "output_type": "stream",
     "text": [
      "              precision    recall  f1-score   support\n",
      "\n",
      "       PUNCT       1.00      1.00      1.00     40332\n",
      "         NUM       0.95      0.96      0.95      2618\n",
      "        VERB       1.00      1.00      1.00     24509\n",
      "        NOUN       0.99      0.99      0.99     42353\n",
      "         ADV       0.94      0.94      0.94     12414\n",
      "        PART       0.93      0.93      0.93      7477\n",
      "        CONJ       0.96      0.94      0.95     12326\n",
      "         DET       0.98      0.99      0.99      7632\n",
      "        PRON       0.95      0.98      0.97     12505\n",
      "         ADJ       0.99      0.97      0.98     13616\n",
      "         ADP       1.00      1.00      1.00     15063\n",
      "        INTJ       0.81      0.78      0.79       162\n",
      "       PROPN       0.92      0.96      0.94       444\n",
      "           X       0.93      0.91      0.92       834\n",
      "\n",
      "   micro avg       0.98      0.98      0.98    192285\n",
      "   macro avg       0.95      0.95      0.95    192285\n",
      "weighted avg       0.98      0.98      0.98    192285\n",
      "\n"
     ]
    }
   ],
   "source": [
    "from sklearn.metrics import accuracy_score, f1_score, confusion_matrix, classification_report\n",
    "\n",
    "a = classification_report(y_test, y_train, target_names = [str(K) for K in list(tag_to_ix.keys())])\n",
    "\n",
    "print(a)"
   ]
  },
  {
   "cell_type": "code",
   "execution_count": null,
   "metadata": {},
   "outputs": [],
   "source": []
  },
  {
   "cell_type": "code",
   "execution_count": null,
   "metadata": {},
   "outputs": [],
   "source": []
  }
 ],
 "metadata": {
  "kernelspec": {
   "display_name": "Python 3",
   "language": "python",
   "name": "python3"
  },
  "language_info": {
   "codemirror_mode": {
    "name": "ipython",
    "version": 3
   },
   "file_extension": ".py",
   "mimetype": "text/x-python",
   "name": "python",
   "nbconvert_exporter": "python",
   "pygments_lexer": "ipython3",
   "version": "3.7.2"
  }
 },
 "nbformat": 4,
 "nbformat_minor": 2
}
