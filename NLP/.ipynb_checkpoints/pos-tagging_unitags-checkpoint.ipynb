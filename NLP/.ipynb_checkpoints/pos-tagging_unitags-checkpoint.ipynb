{
 "cells": [
  {
   "cell_type": "code",
   "execution_count": 1,
   "metadata": {},
   "outputs": [],
   "source": [
    "%matplotlib inline"
   ]
  },
  {
   "cell_type": "markdown",
   "metadata": {},
   "source": [
    "# An LSTM for Part-of-Speech Tagging\n",
    "https://pytorch.org/tutorials/beginner/nlp/sequence_models_tutorial.html\n"
   ]
  },
  {
   "cell_type": "code",
   "execution_count": 2,
   "metadata": {},
   "outputs": [
    {
     "data": {
      "text/plain": [
       "<torch._C.Generator at 0x7fbb402a5130>"
      ]
     },
     "execution_count": 2,
     "metadata": {},
     "output_type": "execute_result"
    }
   ],
   "source": [
    "import numpy as np\n",
    "import torch\n",
    "import torch.nn as nn\n",
    "import torch.nn.functional as F\n",
    "import torch.optim as optim\n",
    "\n",
    "torch.manual_seed(1)"
   ]
  },
  {
   "cell_type": "markdown",
   "metadata": {},
   "source": [
    "### Load Data"
   ]
  },
  {
   "cell_type": "code",
   "execution_count": 3,
   "metadata": {},
   "outputs": [],
   "source": [
    "import csv\n",
    "Dataset = []\n",
    "with open('Data/Parsed_simpletag.csv', newline='') as csvfile:\n",
    "    csv_reader = csv.reader(csvfile, delimiter=',')\n",
    "   \n",
    "    data = []\n",
    "    for row in csv_reader:\n",
    "        \n",
    "        if len(row) == 0:\n",
    "            Dataset.append(data)\n",
    "            data = []\n",
    "        else:\n",
    "            tag = [row[0], row[1], row[2]]\n",
    "            data.append(tag)"
   ]
  },
  {
   "cell_type": "code",
   "execution_count": null,
   "metadata": {},
   "outputs": [],
   "source": []
  },
  {
   "cell_type": "markdown",
   "metadata": {},
   "source": [
    "### Make universal tagset!"
   ]
  },
  {
   "cell_type": "code",
   "execution_count": 4,
   "metadata": {},
   "outputs": [],
   "source": [
    "# http://universaldependencies.org/u/pos/\n",
    "\n",
    "uni = {\n",
    "    # open\n",
    "    'A': 'ADJ',\n",
    "    'ADV': 'ADV',\n",
    "    'INTJ': 'INTJ',\n",
    "    'S': 'NOUN',\n",
    "    'V': 'VERB',\n",
    "    'INIT': 'PROPN', \n",
    "    \n",
    "    # closed\n",
    "    'PR': 'ADP',\n",
    "    #'': 'AUX', ### not in Russian\n",
    "    'CONJ': 'CONJ', # 'CCONJ', 'SCONJ'\n",
    "    'APRO': 'DET',\n",
    "    'NUM': 'NUM',\n",
    "    'PART': 'PART',\n",
    "    'SPRO': 'PRON',\n",
    "    \n",
    "    # other\n",
    "    'PUNCT': 'PUNCT',\n",
    "    'NONLEX': 'X',\n",
    "        \n",
    "    # dop\n",
    "    'ADVPRO': 'ADV',\n",
    "    'ANUM': 'ADJ',\n",
    "    'PARENTH': 'ADV',  # Вводное слово\n",
    "    'PRAEDIC': 'ADV',  # maybe VERB\n",
    "    'PRAEDICPRO': 'ADV'  # maybe VERB\n",
    "}"
   ]
  },
  {
   "cell_type": "code",
   "execution_count": 5,
   "metadata": {},
   "outputs": [],
   "source": [
    "for sentence in Dataset:\n",
    "    for word in sentence:\n",
    "        \n",
    "        tag = uni[word[2]]\n",
    "        word.pop(2)\n",
    "        word.append(tag)"
   ]
  },
  {
   "cell_type": "code",
   "execution_count": null,
   "metadata": {},
   "outputs": [],
   "source": []
  },
  {
   "cell_type": "markdown",
   "metadata": {},
   "source": [
    "## Prepare data!"
   ]
  },
  {
   "cell_type": "code",
   "execution_count": 6,
   "metadata": {},
   "outputs": [],
   "source": [
    "def prepare_sequence(seq, to_ix):\n",
    "    idxs = [to_ix[w] for w in seq]\n",
    "    return torch.tensor(idxs, dtype=torch.long)"
   ]
  },
  {
   "cell_type": "code",
   "execution_count": 7,
   "metadata": {},
   "outputs": [
    {
     "name": "stdout",
     "output_type": "stream",
     "text": [
      "num of sentences: 87782\n"
     ]
    }
   ],
   "source": [
    "use_lemms = 1\n",
    "\n",
    "data = []\n",
    "for sentence in Dataset:\n",
    "    sentence_data = []\n",
    "    words = []\n",
    "    tags = []\n",
    "    for word in sentence:\n",
    "        words.append(word[use_lemms])\n",
    "        tags.append(word[2])\n",
    "    \n",
    "    sentence_data.append(words)\n",
    "    sentence_data.append(tags)\n",
    "    \n",
    "    sentence_data = tuple(sentence_data)\n",
    "    data.append(sentence_data)\n",
    "    \n",
    "print('num of sentences:', len(data))"
   ]
  },
  {
   "cell_type": "code",
   "execution_count": 8,
   "metadata": {},
   "outputs": [
    {
     "data": {
      "text/plain": [
       "[(['нет', '.'], ['PART', 'PUNCT']),\n",
       " (['один', 'только', 'кусочек', 'холодный', 'остаться', '.'],\n",
       "  ['ADJ', 'PART', 'NOUN', 'ADJ', 'VERB', 'PUNCT']),\n",
       " (['В', '..'], ['PROPN', 'PUNCT']),\n",
       " (['давайте', 'погреть', '.'], ['PART', 'VERB', 'PUNCT']),\n",
       " (['Б', '..'], ['PROPN', 'PUNCT'])]"
      ]
     },
     "execution_count": 8,
     "metadata": {},
     "output_type": "execute_result"
    }
   ],
   "source": [
    "data[100:105]"
   ]
  },
  {
   "cell_type": "markdown",
   "metadata": {},
   "source": [
    "## Make w2v!!!"
   ]
  },
  {
   "cell_type": "code",
   "execution_count": 9,
   "metadata": {},
   "outputs": [
    {
     "name": "stdout",
     "output_type": "stream",
     "text": [
      "(2641862, 500)\n"
     ]
    }
   ],
   "source": [
    "import gensim\n",
    "from pymystem3 import Mystem\n",
    "#import pymorphy2\n",
    "from ufal.udpipe import Model, Pipeline\n",
    "\n",
    "word_vectors = gensim.models.KeyedVectors.load_word2vec_format(\"/home/r/Documents/data_w2v/tenth.norm-sz500-w7-cb0-it5-min5.w2v\", \n",
    "                                                               binary=True, unicode_errors='ignore')\n",
    "\n",
    "print(word_vectors.vectors.shape)"
   ]
  },
  {
   "cell_type": "code",
   "execution_count": 10,
   "metadata": {},
   "outputs": [],
   "source": [
    "path = 'udpipes/'\n",
    "modelfile1 = 'russian-syntagrus-ud-2.3-181115.udpipe'\n",
    "modelfile2 = 'russian-gsd-ud-2.3-181115.udpipe'\n",
    "modelfile3 = 'russian-taiga-ud-2.3-181115.udpipe'\n",
    "\n",
    "model1 = Model.load(path + modelfile1)\n",
    "model2 = Model.load(path + modelfile2)\n",
    "model3 = Model.load(path + modelfile3)"
   ]
  },
  {
   "cell_type": "code",
   "execution_count": 11,
   "metadata": {},
   "outputs": [],
   "source": [
    "def tag_ufal(word, model):\n",
    "    \n",
    "    pipeline = Pipeline(model, 'tokenize', Pipeline.DEFAULT, Pipeline.DEFAULT, 'conllu')\n",
    "    processed = pipeline.process(word)\n",
    "    output = [l for l in processed.split('\\n') if not l.startswith('#')]\n",
    "    tagged = ['_'.join(w.split('\\t')[2:4]) for w in output if w]\n",
    "    tagged = [w.split('\\t')[2] for w in output if w]\n",
    "\n",
    "    if len(tagged) > 1:\n",
    "        pass\n",
    "        #print('MANY tags!')\n",
    "        #print(word, tagged)\n",
    "    return tagged[0]"
   ]
  },
  {
   "cell_type": "code",
   "execution_count": 12,
   "metadata": {},
   "outputs": [
    {
     "data": {
      "text/plain": [
       "array([-0.18125933,  0.04451561,  0.04566395, -0.08743411,  0.06082746,\n",
       "        0.3114289 , -0.27108607,  0.12590593,  0.27222472,  0.4354773 ,\n",
       "       -0.14616688, -0.1757782 ,  0.0132714 , -0.15076365,  0.07179581,\n",
       "       -0.16493756, -0.03184904, -0.39687994,  0.02206128, -0.0151894 ,\n",
       "       -0.08458586, -0.12455434,  0.08239872,  0.15433611,  0.36637557,\n",
       "       -0.14813724, -0.00548346,  0.0207062 , -0.11735547, -0.07771657,\n",
       "       -0.23354442, -0.05254282, -0.01529887, -0.00365412,  0.05576355,\n",
       "        0.10970679, -0.06045992,  0.2756294 ,  0.35827807,  0.19157635,\n",
       "       -0.15099981, -0.04767626,  0.11978843, -0.1600945 , -0.21727917,\n",
       "       -0.10526314,  0.14590985, -0.3157325 , -0.00958069,  0.1108558 ],\n",
       "      dtype=float32)"
      ]
     },
     "execution_count": 12,
     "metadata": {},
     "output_type": "execute_result"
    }
   ],
   "source": [
    "word_vectors['vector'][:50]"
   ]
  },
  {
   "cell_type": "code",
   "execution_count": null,
   "metadata": {},
   "outputs": [],
   "source": []
  },
  {
   "cell_type": "markdown",
   "metadata": {},
   "source": [
    "### extract vectors!"
   ]
  },
  {
   "cell_type": "code",
   "execution_count": 13,
   "metadata": {},
   "outputs": [],
   "source": [
    "repair = {\n",
    "    '0': 'ноль',\n",
    "    '1': 'один',\n",
    "    '2': 'два',\n",
    "    '3': 'три',\n",
    "    '4': 'четыре',\n",
    "    '5': 'пять',\n",
    "    '6': 'шесть',\n",
    "    '7': 'семь',\n",
    "    '8': 'восемь',\n",
    "    '9': 'девять',\n",
    "    '10': 'десять',\n",
    "    ':': '-',\n",
    "    ';': ',',\n",
    "    ':\"': '-',\n",
    "    \n",
    "}"
   ]
  },
  {
   "cell_type": "code",
   "execution_count": 14,
   "metadata": {},
   "outputs": [
    {
     "name": "stdout",
     "output_type": "stream",
     "text": [
      "iter = 0\n",
      "iter = 5000\n",
      "iter = 10000\n",
      "iter = 15000\n",
      "iter = 20000\n",
      "iter = 25000\n",
      "iter = 30000\n",
      "iter = 35000\n",
      "iter = 40000\n",
      "iter = 45000\n",
      "iter = 50000\n",
      "iter = 55000\n",
      "iter = 60000\n",
      "iter = 65000\n",
      "iter = 70000\n",
      "iter = 75000\n",
      "iter = 80000\n",
      "iter = 85000\n"
     ]
    }
   ],
   "source": [
    "w2v_data = []\n",
    "\n",
    "faild_words = []\n",
    "faild_tags = []\n",
    "\n",
    "for i, sentence in enumerate(data):\n",
    "    \n",
    "    if i % 5000 == 0:\n",
    "        print('iter =', i)\n",
    "    #print(sentence)\n",
    "    \n",
    "    flag = True\n",
    "    \n",
    "    new_sentence = []\n",
    "    for i, word in enumerate(sentence[0]):\n",
    "        \n",
    "        word = word.lower()\n",
    "        \n",
    "        # repair some words!\n",
    "        if word in list(repair.keys()):\n",
    "            word = repair[word]\n",
    "        if word.count('-') == 1 and len(word) != 1:\n",
    "            ind = word.index('-')\n",
    "            word = word[:ind] + word[ind + 1:]\n",
    "            \n",
    "        for letter in word:\n",
    "            if ord(letter) >= 97 and ord(letter) <= 122 or \\\n",
    "            ord(letter) >= 65 and ord(letter) <= 90:\n",
    "                word = 'vector'\n",
    "        \n",
    "        # try-excepts for\n",
    "        try:\n",
    "            word_vectors[word]\n",
    "            new_sentence.append(word)\n",
    "            \n",
    "        except KeyError:\n",
    "            try:\n",
    "                tag = tag_ufal(word, model1)\n",
    "                word_vectors[tag]\n",
    "                new_sentence.append(tag)\n",
    "            except KeyError:\n",
    "                try:\n",
    "                    tag = tag_ufal(word, model2)\n",
    "                    word_vectors[tag]\n",
    "                    new_sentence.append(tag)\n",
    "                except KeyError:\n",
    "                    try:\n",
    "                        tag = tag_ufal(word, model3)\n",
    "                        word_vectors[tag]\n",
    "                        new_sentence.append(tag)\n",
    "                    except KeyError:\n",
    "                        faild_words.append(word)\n",
    "                        faild_tags.append(sentence[1][i])\n",
    "                        flag = False\n",
    "    \n",
    "    if flag == True:\n",
    "        w2v_data.append((new_sentence, sentence[1]))\n"
   ]
  },
  {
   "cell_type": "code",
   "execution_count": 15,
   "metadata": {},
   "outputs": [
    {
     "data": {
      "text/plain": [
       "77098"
      ]
     },
     "execution_count": 15,
     "metadata": {},
     "output_type": "execute_result"
    }
   ],
   "source": [
    "data = w2v_data\n",
    "len(data)"
   ]
  },
  {
   "cell_type": "code",
   "execution_count": null,
   "metadata": {},
   "outputs": [],
   "source": []
  },
  {
   "cell_type": "markdown",
   "metadata": {},
   "source": [
    "## REAPIR!"
   ]
  },
  {
   "cell_type": "code",
   "execution_count": 16,
   "metadata": {},
   "outputs": [],
   "source": [
    "# create dicts!\n",
    "\n",
    "failw = {}\n",
    "for fail in faild_words:\n",
    "    try:\n",
    "        failw[fail] += 1\n",
    "    except:\n",
    "        failw[fail] = 1     \n",
    "        \n",
    "failt = {}\n",
    "for fail in faild_tags:\n",
    "    try:\n",
    "        failt[fail] += 1\n",
    "    except:\n",
    "        failt[fail] = 1"
   ]
  },
  {
   "cell_type": "code",
   "execution_count": 17,
   "metadata": {},
   "outputs": [
    {
     "data": {
      "text/plain": [
       "[('«', 528),\n",
       " ('»', 235),\n",
       " ('20', 225),\n",
       " ('12', 214),\n",
       " ('15', 206),\n",
       " ('2002', 202),\n",
       " ('2003', 184),\n",
       " ('30', 179),\n",
       " ('11', 177),\n",
       " ('50', 154)]"
      ]
     },
     "execution_count": 17,
     "metadata": {},
     "output_type": "execute_result"
    }
   ],
   "source": [
    "sorted_x = sorted(failw.items(), key=lambda kv: kv[1], reverse=True)\n",
    "sorted_x[:10]"
   ]
  },
  {
   "cell_type": "code",
   "execution_count": 18,
   "metadata": {},
   "outputs": [
    {
     "data": {
      "text/plain": [
       "[('NUM', 8628),\n",
       " ('NOUN', 3261),\n",
       " ('ADJ', 2725),\n",
       " ('PUNCT', 1707),\n",
       " ('VERB', 305),\n",
       " ('ADV', 103),\n",
       " ('X', 80),\n",
       " ('PART', 27),\n",
       " ('INTJ', 19),\n",
       " ('DET', 6),\n",
       " ('PRON', 1)]"
      ]
     },
     "execution_count": 18,
     "metadata": {},
     "output_type": "execute_result"
    }
   ],
   "source": [
    "sorted_y = sorted(failt.items(), key=lambda kv: kv[1], reverse=True)\n",
    "sorted_y"
   ]
  },
  {
   "cell_type": "code",
   "execution_count": null,
   "metadata": {},
   "outputs": [],
   "source": []
  },
  {
   "cell_type": "code",
   "execution_count": 19,
   "metadata": {},
   "outputs": [],
   "source": [
    "# create dicts!\n",
    "\n",
    "tag_count = {}\n",
    "for sent, tags in data:\n",
    "\n",
    "    for tag in tags:\n",
    "        \n",
    "        try:\n",
    "            tag_count[tag] += 1\n",
    "        except:\n",
    "            tag_count[tag] = 1       \n"
   ]
  },
  {
   "cell_type": "code",
   "execution_count": 20,
   "metadata": {},
   "outputs": [
    {
     "data": {
      "text/plain": [
       "{'PUNCT': 203016,\n",
       " 'NUM': 12909,\n",
       " 'VERB': 121230,\n",
       " 'NOUN': 214176,\n",
       " 'ADV': 62094,\n",
       " 'PART': 36821,\n",
       " 'CONJ': 60130,\n",
       " 'DET': 37938,\n",
       " 'PRON': 62164,\n",
       " 'ADJ': 68525,\n",
       " 'ADP': 75795,\n",
       " 'INTJ': 884,\n",
       " 'PROPN': 2255,\n",
       " 'X': 4467}"
      ]
     },
     "execution_count": 20,
     "metadata": {},
     "output_type": "execute_result"
    }
   ],
   "source": [
    "tag_count"
   ]
  },
  {
   "cell_type": "code",
   "execution_count": null,
   "metadata": {},
   "outputs": [],
   "source": []
  },
  {
   "cell_type": "markdown",
   "metadata": {},
   "source": [
    "### Train_test split"
   ]
  },
  {
   "cell_type": "code",
   "execution_count": 21,
   "metadata": {},
   "outputs": [
    {
     "name": "stdout",
     "output_type": "stream",
     "text": [
      "37045 14\n"
     ]
    }
   ],
   "source": [
    "# create dicts!\n",
    "\n",
    "word_to_ix = {}\n",
    "tag_to_ix = {}\n",
    "for sent, tags in data:\n",
    "    for word in sent:\n",
    "        if word not in word_to_ix:\n",
    "            word_to_ix[word] = len(word_to_ix)\n",
    "            \n",
    "    for tag in tags:\n",
    "        if tag not in tag_to_ix:\n",
    "            tag_to_ix[tag] = len(tag_to_ix)        \n",
    "print(len(word_to_ix), len(tag_to_ix))"
   ]
  },
  {
   "cell_type": "code",
   "execution_count": 23,
   "metadata": {},
   "outputs": [
    {
     "name": "stdout",
     "output_type": "stream",
     "text": [
      "61678 15420\n"
     ]
    }
   ],
   "source": [
    "from sklearn.model_selection import train_test_split\n",
    "num_of_test = 0.2\n",
    "\n",
    "train_data, test_data = train_test_split(data, test_size = num_of_test, random_state = 12345)\n",
    "print(len(train_data), len(test_data))"
   ]
  },
  {
   "cell_type": "code",
   "execution_count": null,
   "metadata": {},
   "outputs": [],
   "source": []
  },
  {
   "cell_type": "markdown",
   "metadata": {},
   "source": [
    "# Train the model:\n",
    "\n"
   ]
  },
  {
   "cell_type": "code",
   "execution_count": 24,
   "metadata": {},
   "outputs": [],
   "source": [
    "class LSTMTagger(nn.Module):\n",
    "\n",
    "    def __init__(self, hidden_dim1, hidden_dim2, tagset_size):\n",
    "        super(LSTMTagger, self).__init__()\n",
    "        self.hidden_dim1 = hidden_dim1\n",
    "        self.hidden_dim2 = hidden_dim2\n",
    "        \n",
    "        #self.word_embeddings = nn.Embedding(vocab_size, embedding_dim)\n",
    "\n",
    "        # The LSTM takes word embeddings as inputs, and outputs hidden states\n",
    "        # with dimensionality hidden_dim1.\n",
    "        self.lstm = nn.LSTM(500, hidden_dim1, bidirectional=True)\n",
    "\n",
    "        self.lstm2 = nn.LSTM(hidden_dim1 * 2, hidden_dim2, bidirectional=True)\n",
    "\n",
    "        # The linear layer that maps from hidden state space to tag space\n",
    "        self.hidden2tag = nn.Linear(hidden_dim2 * 2, tagset_size)\n",
    "        self.hidden1 = self.init_hidden1()\n",
    "        self.hidden2 = self.init_hidden2()\n",
    "\n",
    "    def init_hidden1(self):\n",
    "\n",
    "        return (torch.zeros(2, 1, self.hidden_dim1),\n",
    "                torch.zeros(2, 1, self.hidden_dim1))\n",
    "\n",
    "    def init_hidden2(self):\n",
    "\n",
    "        return (torch.zeros(2, 1, self.hidden_dim2),\n",
    "                torch.zeros(2, 1, self.hidden_dim2))\n",
    "\n",
    "    def forward(self, sentence):\n",
    "        \n",
    "        lstm_out, self.hidden = self.lstm(\n",
    "            sentence, self.hidden1)\n",
    "\n",
    "        lstm_out2, self.hidden = self.lstm2(\n",
    "            lstm_out.view(len(sentence), 1, -1), self.hidden2)\n",
    "\n",
    "        tag_space = self.hidden2tag(lstm_out2.view(len(sentence), -1))\n",
    "        tag_scores = F.log_softmax(tag_space, dim=1)\n",
    "        return tag_scores"
   ]
  },
  {
   "cell_type": "code",
   "execution_count": null,
   "metadata": {},
   "outputs": [],
   "source": []
  },
  {
   "cell_type": "markdown",
   "metadata": {},
   "source": [
    "## Funcs"
   ]
  },
  {
   "cell_type": "code",
   "execution_count": 25,
   "metadata": {},
   "outputs": [],
   "source": [
    "def train(sentence, tag):\n",
    "    model.zero_grad()\n",
    "\n",
    "    sentence_in = torch.Tensor(word_vectors[sentence])\n",
    "    sentence_in = sentence_in.view(len(sentence), 1, -1)\n",
    "    \n",
    "    targets = prepare_sequence(tag, tag_to_ix)\n",
    "\n",
    "    # forward pass\n",
    "    tag_scores = model(sentence_in)\n",
    "\n",
    "    # loss and backward\n",
    "    loss = loss_function(tag_scores, targets)\n",
    "    \n",
    "    loss.backward()\n",
    "    \n",
    "    loss.detach_()\n",
    "    optimizer.step()\n",
    "        \n",
    "    return tag_scores, loss"
   ]
  },
  {
   "cell_type": "code",
   "execution_count": 26,
   "metadata": {},
   "outputs": [],
   "source": [
    "from sklearn.metrics import accuracy_score\n",
    "\n",
    "def evaluate(num_iter = 100):\n",
    "    with torch.no_grad():\n",
    "        \n",
    "        main_score = 0\n",
    "        for i in range(num_iter):\n",
    "            rng = np.random.randint(len(test_data))\n",
    "            \n",
    "            sentence = test_data[rng][0]\n",
    "            \n",
    "            sentence_in = torch.Tensor(word_vectors[sentence])\n",
    "            sentence_in = sentence_in.view(len(sentence), 1, -1)\n",
    "\n",
    "            output = model(sentence_in)\n",
    "            \n",
    "            # get top\n",
    "            topv, topi = output.topk(1)\n",
    "            true_values = prepare_sequence(test_data[rng][1], tag_to_ix)\n",
    "\n",
    "            score = accuracy_score(true_values, topi)\n",
    "            main_score += score\n",
    "\n",
    "        \n",
    "        return main_score / num_iter"
   ]
  },
  {
   "cell_type": "code",
   "execution_count": 27,
   "metadata": {},
   "outputs": [],
   "source": [
    "def total_evaluate():\n",
    "    with torch.no_grad():\n",
    "        \n",
    "        main_score = 0\n",
    "        for i in range(len(test_data)):\n",
    "            sentence = test_data[i][0]\n",
    "            sentence_in = torch.Tensor(word_vectors[sentence])\n",
    "            sentence_in = sentence_in.view(len(sentence), 1, -1)\n",
    "\n",
    "            output = model(sentence_in)\n",
    "\n",
    "            # get top\n",
    "            topv, topi = output.topk(1)\n",
    "            true_values = prepare_sequence(test_data[i][1], tag_to_ix)\n",
    "\n",
    "            score = accuracy_score(true_values, topi)\n",
    "            main_score += score\n",
    "\n",
    "        \n",
    "        return main_score / len(test_data)"
   ]
  },
  {
   "cell_type": "code",
   "execution_count": 28,
   "metadata": {},
   "outputs": [],
   "source": [
    "def train_rng():\n",
    "    \n",
    "    rng = np.random.randint(len(train_data))\n",
    "    \n",
    "    sentence = train_data[rng][0]\n",
    "    tag = train_data[rng][1]\n",
    "    \n",
    "    return sentence, tag"
   ]
  },
  {
   "cell_type": "code",
   "execution_count": 29,
   "metadata": {},
   "outputs": [],
   "source": [
    "import time\n",
    "import math\n",
    "\n",
    "def timeSince(since):\n",
    "    now = time.time()\n",
    "    s = now - since\n",
    "    m = math.floor(s / 60)\n",
    "    s -= m * 60\n",
    "    return '%dm %ds' % (m, s)"
   ]
  },
  {
   "cell_type": "markdown",
   "metadata": {},
   "source": [
    "## GONNA TRAIN!"
   ]
  },
  {
   "cell_type": "code",
   "execution_count": 30,
   "metadata": {},
   "outputs": [],
   "source": [
    "HIDDEN_DIM = 300\n",
    "HIDDEN_DIM2 = 300\n",
    "\n",
    "model = LSTMTagger(HIDDEN_DIM, HIDDEN_DIM2, len(tag_to_ix))\n",
    "loss_function = nn.NLLLoss()\n",
    "\n",
    "all_losses = []"
   ]
  },
  {
   "cell_type": "code",
   "execution_count": null,
   "metadata": {
    "scrolled": true
   },
   "outputs": [],
   "source": [
    "learning_rate = 0.1\n",
    "\n",
    "optimizer = optim.SGD(model.parameters(), lr=learning_rate)\n",
    "\n",
    "n_iters = 20000 \n",
    "\n",
    "plot_every = 100\n",
    "print_every = 300\n",
    "\n",
    "current_loss = 0\n",
    "start = time.time()\n",
    "\n",
    "model.hidden1 = model.init_hidden1()\n",
    "model.hidden2 = model.init_hidden2()\n",
    "\n",
    "for i in range(1, n_iters + 1):\n",
    "        \n",
    "    se, tag = train_rng()\n",
    "    out, loss = train(se, tag)\n",
    "    current_loss += loss\n",
    "    \n",
    "    if i % print_every == 0:\n",
    "        print('%d %d%% (%s) loss: %.4f accuracy on test: %.4f' % (i, i / n_iters * 100, \n",
    "                                                                  timeSince(start), current_loss / plot_every, evaluate()))\n",
    "    \n",
    "    if i % plot_every == 0:\n",
    "        all_losses.append(current_loss / plot_every)\n",
    "        current_loss = 0"
   ]
  },
  {
   "cell_type": "code",
   "execution_count": null,
   "metadata": {},
   "outputs": [],
   "source": [
    "import matplotlib.pyplot as plt\n",
    "\n",
    "print(total_evaluate())\n",
    "\n",
    "plt.plot(all_losses)\n",
    "plt.show()"
   ]
  },
  {
   "cell_type": "code",
   "execution_count": null,
   "metadata": {},
   "outputs": [],
   "source": []
  },
  {
   "cell_type": "code",
   "execution_count": null,
   "metadata": {
    "scrolled": true
   },
   "outputs": [],
   "source": [
    "learning_rate = 0.01\n",
    "\n",
    "optimizer = optim.SGD(model.parameters(), lr=learning_rate)\n",
    "\n",
    "n_iters = 15000 \n",
    "\n",
    "plot_every = 100\n",
    "print_every = 300\n",
    "\n",
    "current_loss = 0\n",
    "start = time.time()\n",
    "\n",
    "model.hidden1 = model.init_hidden1()\n",
    "model.hidden2 = model.init_hidden2()\n",
    "\n",
    "for i in range(1, n_iters + 1):\n",
    "        \n",
    "    se, tag = train_rng()\n",
    "    out, loss = train(se, tag)\n",
    "    current_loss += loss\n",
    "    \n",
    "    if i % print_every == 0:\n",
    "        print('%d %d%% (%s) loss: %.4f accuracy on test: %.4f' % (i, i / n_iters * 100, \n",
    "                                                                  timeSince(start), current_loss / plot_every, evaluate()))\n",
    "    \n",
    "    if i % plot_every == 0:\n",
    "        all_losses.append(current_loss / plot_every)\n",
    "        current_loss = 0"
   ]
  },
  {
   "cell_type": "code",
   "execution_count": null,
   "metadata": {},
   "outputs": [],
   "source": [
    "import matplotlib.pyplot as plt\n",
    "\n",
    "print(total_evaluate())\n",
    "\n",
    "plt.plot(all_losses)\n",
    "plt.show()"
   ]
  },
  {
   "cell_type": "code",
   "execution_count": null,
   "metadata": {},
   "outputs": [],
   "source": []
  },
  {
   "cell_type": "code",
   "execution_count": null,
   "metadata": {
    "scrolled": true
   },
   "outputs": [],
   "source": [
    "learning_rate = 0.001\n",
    "\n",
    "optimizer = optim.SGD(model.parameters(), lr=learning_rate)\n",
    "\n",
    "n_iters = 10000 \n",
    "\n",
    "plot_every = 100\n",
    "print_every = 300\n",
    "\n",
    "current_loss = 0\n",
    "start = time.time()\n",
    "\n",
    "model.hidden1 = model.init_hidden1()\n",
    "model.hidden2 = model.init_hidden2()\n",
    "\n",
    "for i in range(1, n_iters + 1):\n",
    "        \n",
    "    se, tag = train_rng()\n",
    "    out, loss = train(se, tag)\n",
    "    current_loss += loss\n",
    "    \n",
    "    if i % print_every == 0:\n",
    "        print('%d %d%% (%s) loss: %.4f accuracy on test: %.4f' % (i, i / n_iters * 100, \n",
    "                                                                  timeSince(start), current_loss / plot_every, evaluate()))\n",
    "    \n",
    "    if i % plot_every == 0:\n",
    "        all_losses.append(current_loss / plot_every)\n",
    "        current_loss = 0"
   ]
  },
  {
   "cell_type": "code",
   "execution_count": null,
   "metadata": {},
   "outputs": [],
   "source": [
    "import matplotlib.pyplot as plt\n",
    "\n",
    "print(total_evaluate())\n",
    "\n",
    "plt.plot(all_losses)\n",
    "plt.show()"
   ]
  },
  {
   "cell_type": "code",
   "execution_count": null,
   "metadata": {},
   "outputs": [],
   "source": []
  },
  {
   "cell_type": "code",
   "execution_count": null,
   "metadata": {},
   "outputs": [],
   "source": []
  },
  {
   "cell_type": "markdown",
   "metadata": {},
   "source": [
    "## Save and load models"
   ]
  },
  {
   "cell_type": "code",
   "execution_count": 34,
   "metadata": {},
   "outputs": [],
   "source": [
    "path = 'Data/Models/LSTM_w2v_500'\n",
    "\n",
    "torch.save(model.state_dict(), path)"
   ]
  },
  {
   "cell_type": "code",
   "execution_count": 27,
   "metadata": {},
   "outputs": [
    {
     "data": {
      "text/plain": [
       "LSTMTagger(\n",
       "  (word_embeddings): Embedding(50806, 64)\n",
       "  (lstm): LSTM(64, 128)\n",
       "  (hidden2tag): Linear(in_features=128, out_features=19, bias=True)\n",
       ")"
      ]
     },
     "execution_count": 27,
     "metadata": {},
     "output_type": "execute_result"
    }
   ],
   "source": [
    "model = LSTMTagger(EMBEDDING_DIM, HIDDEN_DIM, len(word_to_ix), len(tag_to_ix))\n",
    "model.load_state_dict(torch.load(path))\n",
    "model.eval()"
   ]
  },
  {
   "cell_type": "code",
   "execution_count": null,
   "metadata": {},
   "outputs": [],
   "source": []
  },
  {
   "cell_type": "code",
   "execution_count": null,
   "metadata": {},
   "outputs": [],
   "source": []
  },
  {
   "cell_type": "markdown",
   "metadata": {},
   "source": [
    "## confusion matrix"
   ]
  },
  {
   "cell_type": "code",
   "execution_count": 36,
   "metadata": {},
   "outputs": [],
   "source": [
    "all_categories = list(tag_to_ix)\n",
    "n_categories = len(all_categories)\n",
    "\n",
    "# Keep track of correct guesses in a confusion matrix\n",
    "confusion = torch.zeros(n_categories, n_categories) \n",
    "\n",
    "n_confusion = 1000\n",
    "y_train = []\n",
    "y_test = []\n",
    "with torch.no_grad():\n",
    "    for i in range(len(test_data)):\n",
    "        try:\n",
    "            \n",
    "            sentence = test_data[i][0]\n",
    "            \n",
    "            sentence_in = np.empty((len(sentence), 500))\n",
    "            for j in range(len(sentence)):\n",
    "                sentence_in[j] = word_vectors[sentence[j]]\n",
    "\n",
    "            sentence_in = torch.Tensor(sentence_in)\n",
    "            sentence_in = sentence_in.view(len(sentence), 1, -1)\n",
    "\n",
    "            output = model(sentence_in)\n",
    "\n",
    "            # get top\n",
    "            topv, topi = output.topk(1)\n",
    "            true_values = prepare_sequence(test_data[i][1], tag_to_ix)\n",
    "\n",
    "            for j in range(len(true_values)):\n",
    "                confusion[true_values[j]][topi[j]] += 1 # инк ячейку\n",
    "                y_train.append(topi[j].item())\n",
    "                y_test.append(true_values[j].item())\n",
    "        except RuntimeError:\n",
    "            pass\n",
    "            \n",
    "normalize_confusion = torch.clone(confusion)\n",
    "# Normalize \n",
    "for i in range(n_categories):\n",
    "    normalize_confusion[i] = normalize_confusion[i] / normalize_confusion[i].sum()"
   ]
  },
  {
   "cell_type": "code",
   "execution_count": 37,
   "metadata": {},
   "outputs": [
    {
     "data": {
      "image/png": "[encoded data removed]",
      "text/plain": [
       "<Figure size 936x936 with 2 Axes>"
      ]
     },
     "metadata": {
      "needs_background": "light"
     },
     "output_type": "display_data"
    }
   ],
   "source": [
    "from matplotlib import ticker\n",
    "\n",
    "# Set up plot\n",
    "fig = plt.figure(figsize=(13, 13))\n",
    "ax = fig.add_subplot(111)\n",
    "cax = ax.matshow(normalize_confusion.numpy())\n",
    "fig.colorbar(cax)\n",
    "\n",
    "# Set up axes\n",
    "ax.set_xticklabels([''] + all_categories, rotation=90)\n",
    "ax.set_yticklabels([''] + all_categories)\n",
    "\n",
    "# Force label at every tick\n",
    "ax.xaxis.set_major_locator(ticker.MultipleLocator(1))\n",
    "ax.yaxis.set_major_locator(ticker.MultipleLocator(1))\n",
    "\n",
    "plt.show()"
   ]
  },
  {
   "cell_type": "code",
   "execution_count": 41,
   "metadata": {},
   "outputs": [
    {
     "name": "stdout",
     "output_type": "stream",
     "text": [
      "              precision    recall  f1-score   support\n",
      "\n",
      "       PUNCT       1.00      1.00      1.00     22721\n",
      "           V       1.00      1.00      1.00     14807\n",
      "           S       0.99      0.99      0.99     22834\n",
      "     PARENTH       0.84      0.87      0.86       469\n",
      "        PART       0.94      0.92      0.93      4969\n",
      "        CONJ       0.95      0.94      0.95      7313\n",
      "        APRO       0.99      0.99      0.99      4673\n",
      "        SPRO       0.96      0.98      0.97      8316\n",
      "           A       0.98      0.98      0.98      7964\n",
      "      ADVPRO       0.93      0.93      0.93      2377\n",
      "         ADV       0.91      0.92      0.92      4016\n",
      "          PR       0.99      1.00      1.00      8490\n",
      "     PRAEDIC       0.89      0.74      0.81       934\n",
      "         NUM       0.92      0.95      0.93       601\n",
      "        ANUM       0.90      0.81      0.85       295\n",
      "        INIT       0.92      0.91      0.91       178\n",
      "        INTJ       0.83      0.78      0.81       123\n",
      "  PRAEDICPRO       0.00      0.00      0.00        12\n",
      "      NONLEX       0.89      0.61      0.72       123\n",
      "\n",
      "   micro avg       0.98      0.98      0.98    111215\n",
      "   macro avg       0.88      0.86      0.87    111215\n",
      "weighted avg       0.98      0.98      0.98    111215\n",
      "\n"
     ]
    },
    {
     "name": "stderr",
     "output_type": "stream",
     "text": [
      "/home/r/anaconda3/envs/mainenv/lib/python3.7/site-packages/sklearn/metrics/classification.py:1143: UndefinedMetricWarning: Precision and F-score are ill-defined and being set to 0.0 in labels with no predicted samples.\n",
      "  'precision', 'predicted', average, warn_for)\n"
     ]
    }
   ],
   "source": [
    "from sklearn.metrics import accuracy_score, f1_score, confusion_matrix, classification_report\n",
    "\n",
    "a = classification_report(y_test, y_train, target_names = [str(K) for K in list(tag_to_ix.keys())])\n",
    "\n",
    "print(a)"
   ]
  },
  {
   "cell_type": "code",
   "execution_count": null,
   "metadata": {},
   "outputs": [],
   "source": []
  },
  {
   "cell_type": "code",
   "execution_count": null,
   "metadata": {},
   "outputs": [],
   "source": []
  },
  {
   "cell_type": "code",
   "execution_count": null,
   "metadata": {},
   "outputs": [],
   "source": []
  },
  {
   "cell_type": "code",
   "execution_count": null,
   "metadata": {},
   "outputs": [],
   "source": []
  },
  {
   "cell_type": "code",
   "execution_count": 24,
   "metadata": {},
   "outputs": [
    {
     "data": {
      "image/png": "[encoded data removed]",
      "text/plain": [
       "<Figure size 936x936 with 2 Axes>"
      ]
     },
     "metadata": {
      "needs_background": "light"
     },
     "output_type": "display_data"
    }
   ],
   "source": [
    "from matplotlib import ticker\n",
    "\n",
    "# Set up plot\n",
    "fig = plt.figure(figsize=(13, 13))\n",
    "ax = fig.add_subplot(111)\n",
    "cax = ax.matshow(normalize_confusion.numpy())\n",
    "fig.colorbar(cax)\n",
    "\n",
    "# Set up axes\n",
    "ax.set_xticklabels([''] + all_categories, rotation=90)\n",
    "ax.set_yticklabels([''] + all_categories)\n",
    "\n",
    "# Force label at every tick\n",
    "ax.xaxis.set_major_locator(ticker.MultipleLocator(1))\n",
    "ax.yaxis.set_major_locator(ticker.MultipleLocator(1))\n",
    "\n",
    "plt.show()"
   ]
  },
  {
   "cell_type": "code",
   "execution_count": 26,
   "metadata": {},
   "outputs": [
    {
     "name": "stderr",
     "output_type": "stream",
     "text": [
      "/home/r/.conda/envs/mainpy/lib/python3.6/site-packages/ipykernel_launcher.py:4: UserWarning: invalid index of a 0-dim tensor. This will be an error in PyTorch 0.5. Use tensor.item() to convert a 0-dim tensor to a Python number\n",
      "  after removing the cwd from sys.path.\n"
     ]
    },
    {
     "name": "stdout",
     "output_type": "stream",
     "text": [
      "tensor(0.9978) tensor(50858.)\n",
      "tensor(0.9377) tensor(4832.)\n",
      "tensor(0.9555) tensor(27500.)\n",
      "tensor(0.9717) tensor(55233.)\n",
      "tensor(0.9166) tensor(879.)\n",
      "tensor(0.9364) tensor(7797.)\n",
      "tensor(0.9539) tensor(13732.)\n",
      "tensor(0.9881) tensor(8942.)\n",
      "tensor(0.9639) tensor(13042.)\n",
      "tensor(0.8899) tensor(15591.)\n",
      "tensor(0.9111) tensor(3833.)\n",
      "tensor(0.8861) tensor(6665.)\n",
      "tensor(0.8080) tensor(1254.)\n",
      "tensor(0.9957) tensor(19441.)\n",
      "tensor(0.8020) tensor(158.)\n",
      "tensor(0.7721) tensor(654.)\n",
      "tensor(0.9902) tensor(710.)\n",
      "tensor(0.6508) tensor(1055.)\n",
      "tensor(0.8000) tensor(16.)\n",
      "tensor(0.9515)\n"
     ]
    }
   ],
   "source": [
    "all_perc = 0\n",
    "for i in range(n_categories):\n",
    "    \n",
    "    percent = normalize_confusion[i][i][0]\n",
    "    all_perc += percent\n",
    "    \n",
    "    print(normalize_confusion[i][i], confusion[i][i])\n",
    "    \n",
    "print(all_perc / (n_categories - 1))"
   ]
  },
  {
   "cell_type": "code",
   "execution_count": 40,
   "metadata": {},
   "outputs": [
    {
     "name": "stdout",
     "output_type": "stream",
     "text": [
      "tensor(0.9999) tensor(22718.)\n",
      "tensor(0.9983) tensor(14782.)\n",
      "tensor(0.9905) tensor(22618.)\n",
      "tensor(0.8699) tensor(408.)\n",
      "tensor(0.9207) tensor(4575.)\n",
      "tensor(0.9402) tensor(6876.)\n",
      "tensor(0.9944) tensor(4647.)\n",
      "tensor(0.9769) tensor(8124.)\n",
      "tensor(0.9824) tensor(7824.)\n",
      "tensor(0.9272) tensor(2204.)\n",
      "tensor(0.9206) tensor(3697.)\n",
      "tensor(0.9961) tensor(8457.)\n",
      "tensor(0.7441) tensor(695.)\n",
      "tensor(0.9517) tensor(572.)\n",
      "tensor(0.8136) tensor(240.)\n",
      "tensor(0.9101) tensor(162.)\n",
      "tensor(0.7805) tensor(96.)\n",
      "tensor(0.) tensor(0.)\n",
      "tensor(0.6098) tensor(75.)\n",
      "0.9070583879947662\n"
     ]
    }
   ],
   "source": [
    "all_perc = 0\n",
    "for i in range(n_categories):\n",
    "    \n",
    "    percent = normalize_confusion[i][i].item()\n",
    "    all_perc += percent\n",
    "    \n",
    "    print(normalize_confusion[i][i], confusion[i][i])\n",
    "    \n",
    "print(all_perc / (n_categories - 1))"
   ]
  },
  {
   "cell_type": "code",
   "execution_count": null,
   "metadata": {},
   "outputs": [],
   "source": []
  },
  {
   "cell_type": "code",
   "execution_count": 71,
   "metadata": {},
   "outputs": [
    {
     "data": {
      "text/plain": [
       "['CONJ', 'S', 'ADV', 'V', 'PUNCT', 'PR', 'S', 'V', 'A', 'S', 'PUNCT']"
      ]
     },
     "execution_count": 71,
     "metadata": {},
     "output_type": "execute_result"
    }
   ],
   "source": [
    "test_data[5][1]"
   ]
  },
  {
   "cell_type": "code",
   "execution_count": 71,
   "metadata": {},
   "outputs": [
    {
     "name": "stdout",
     "output_type": "stream",
     "text": [
      "двое\n",
      "несколько\n",
      "столько\n",
      "несколько\n",
      "немного\n",
      "два\n",
      "два\n",
      "два\n",
      "два\n",
      "много\n",
      "мало\n",
      "много\n",
      "пять\n",
      "много\n",
      "пять\n",
      "два\n",
      "три\n",
      "пол\n",
      "три\n",
      "два\n",
      "сколько\n",
      "несколько\n",
      "трое\n",
      "пятеро\n",
      "много\n",
      "мало\n",
      "два\n",
      "три\n",
      "четыре\n",
      "много\n",
      "много\n",
      "два\n",
      "сколько\n",
      "много\n",
      "шесть\n",
      "шесть\n",
      "много\n",
      "мало\n",
      "двое\n",
      "сколько\n",
      "полтора\n",
      "много\n",
      "много\n",
      "два\n",
      "два\n",
      "два\n",
      "десять\n",
      "мало\n",
      "немножечко\n",
      "столько\n",
      "сколько\n",
      "столько\n",
      "девять\n",
      "семь\n",
      "десять\n",
      "немало\n",
      "три\n",
      "много\n",
      "несколько\n",
      "три\n",
      "три\n",
      "три\n",
      "сколько\n",
      "два\n",
      "два\n",
      "много\n",
      "несколько\n",
      "два\n",
      "семьсот\n",
      "несколько\n",
      "шесть\n",
      "несколько\n",
      "пять\n",
      "сколько\n",
      "два\n",
      "сто\n",
      "много\n",
      "сколько\n",
      "восемнадцать\n",
      "два\n",
      "три\n",
      "несколько\n",
      "четыре\n",
      "полтора\n",
      "два\n",
      "много\n",
      "два\n",
      "два\n",
      "два\n",
      "десять\n",
      "несколько\n",
      "оба\n",
      "оба\n",
      "много\n",
      "четыре\n",
      "много\n",
      "четыре\n",
      "два\n",
      "три\n",
      "столько\n",
      "несколько\n",
      "четыре\n",
      "два\n",
      "три\n",
      "много\n",
      "много\n",
      "два\n",
      "шестнадцать\n",
      "сколько\n",
      "два\n",
      "много\n",
      "два\n",
      "много\n",
      "два\n",
      "три\n",
      "четыре\n",
      "три\n",
      "сорок\n",
      "несколько\n",
      "много\n",
      "два\n",
      "много\n",
      "два\n",
      "два\n",
      "много\n",
      "много\n",
      "несколько\n",
      "три\n",
      "два\n",
      "мало\n",
      "много\n",
      "тридцать\n",
      "шесть\n",
      "сколько\n",
      "много\n",
      "несколько\n",
      "много\n",
      "немного\n",
      "полтора\n",
      "сколько\n",
      "два\n",
      "несколько\n",
      "много\n",
      "тридцать\n",
      "пол\n",
      "четыре\n",
      "мало\n",
      "сто\n",
      "много\n",
      "много\n",
      "много\n",
      "три\n",
      "двадцать\n",
      "пять\n",
      "мало\n",
      "мало\n",
      "мало\n",
      "девять\n",
      "четверо\n",
      "тридцать\n",
      "тридцать\n",
      "три\n",
      "два\n",
      "три\n",
      "оба\n",
      "много\n",
      "пятьдесят\n",
      "два\n",
      "сколько\n",
      "пятнадцать\n",
      "три\n",
      "несколько\n",
      "два\n",
      "сколько\n",
      "пол\n",
      "два\n",
      "три\n",
      "сколько\n",
      "пятнадцать\n",
      "много\n",
      "четыре\n",
      "мало\n",
      "три\n",
      "немало\n",
      "много\n",
      "мало\n",
      "много\n",
      "четыре\n",
      "сколько\n",
      "три\n",
      "сорок\n",
      "восемь\n",
      "четыре\n",
      "семь\n",
      "сколько\n",
      "два\n",
      "три\n",
      "два\n",
      "два\n",
      "три\n",
      "четыре\n",
      "десять\n",
      "одиннадцать\n",
      "много\n",
      "много\n",
      "два\n",
      "три\n",
      "четыре\n",
      "пять\n",
      "немало\n",
      "два\n",
      "три\n",
      "много\n",
      "два\n",
      "сто\n",
      "много\n",
      "пять\n",
      "пять\n",
      "много\n",
      "много\n",
      "оба\n",
      "столько\n",
      "несколько\n",
      "несколько\n",
      "два\n",
      "немало\n",
      "два\n",
      "два\n",
      "два\n",
      "пять\n",
      "много\n",
      "несколько\n",
      "два\n",
      "пять\n",
      "десять\n",
      "тридцать\n",
      "пятнадцать\n",
      "десять\n",
      "шесть\n",
      "несколько\n",
      "четыре\n",
      "два\n",
      "девять\n",
      "двое\n",
      "десять\n",
      "сколько\n",
      "два\n",
      "десять\n",
      "два\n",
      "несколько\n",
      "два\n",
      "мало\n",
      "четыре\n",
      "два\n",
      "столько\n",
      "три\n",
      "десять\n",
      "девятьсот\n",
      "девяносто\n",
      "несколько\n",
      "много\n",
      "два\n",
      "двадцать\n",
      "два\n",
      "два\n",
      "много\n",
      "два\n",
      "несколько\n",
      "семь\n",
      "тридцать\n",
      "три\n",
      "несколько\n",
      "сколько\n",
      "два\n",
      "три\n",
      "много\n",
      "три\n",
      "два\n",
      "три\n",
      "тридцать\n",
      "сорок\n",
      "много\n",
      "два\n",
      "два\n",
      "двадцать\n",
      "сколько\n",
      "два\n",
      "много\n",
      "пять\n",
      "трое\n",
      "много\n",
      "два\n",
      "два\n",
      "два\n",
      "два\n",
      "немножко\n",
      "три\n",
      "четыре\n",
      "оба\n",
      "сколько\n",
      "немало\n",
      "два\n",
      "сто\n",
      "пятьдесят\n",
      "мало\n",
      "несколько\n",
      "два\n",
      "два\n",
      "полтора\n",
      "несколько\n",
      "сколько\n",
      "десять\n",
      "немало\n",
      "пол\n",
      "семнадцать\n",
      "двадцать\n",
      "два\n",
      "два\n",
      "сколько\n",
      "мало\n",
      "сколько\n",
      "оба\n",
      "сколько\n",
      "пять\n",
      "три\n",
      "много\n",
      "два\n",
      "несколько\n",
      "много\n",
      "оба\n",
      "пятьдесят\n",
      "пятьдесят\n",
      "два\n",
      "несколько\n",
      "несколько\n",
      "десять\n",
      "столько\n",
      "много\n",
      "два\n",
      "десятеро\n",
      "семнадцать\n",
      "много\n",
      "много\n",
      "немного\n",
      "четыре\n",
      "много\n",
      "много\n",
      "двадцать\n",
      "шесть\n",
      "пять\n",
      "пол\n",
      "три\n",
      "одиннадцать\n",
      "двое\n",
      "мало\n",
      "полтора\n",
      "много\n",
      "три\n",
      "два\n",
      "два\n",
      "много\n",
      "много\n",
      "восемь\n",
      "много\n",
      "полтора\n",
      "много\n",
      "сколько\n",
      "пятьдесят\n",
      "пять\n",
      "четыре\n",
      "два\n",
      "сколько\n",
      "два\n",
      "три\n",
      "нисколько\n",
      "мало\n",
      "тридцать\n",
      "семь\n",
      "много\n",
      "несколько\n",
      "два\n",
      "сколько\n",
      "сколько\n",
      "семь\n",
      "столько\n",
      "пятнадцать\n",
      "два\n",
      "несколько\n",
      "много\n",
      "много\n",
      "семь\n",
      "два\n",
      "четыре\n",
      "сорок\n",
      "два\n",
      "три\n",
      "трое\n",
      "два\n",
      "два\n",
      "пятнадцать\n",
      "два\n",
      "три\n",
      "сорок\n",
      "тринадцать\n",
      "столько\n",
      "оба\n",
      "три\n",
      "двадцать\n",
      "два\n",
      "сколько\n",
      "оба\n",
      "два\n",
      "пятнадцать\n",
      "много\n",
      "несколько\n",
      "много\n",
      "два\n",
      "полтора\n",
      "два\n",
      "немного\n",
      "сколько\n",
      "много\n",
      "двадцать\n",
      "полтора\n",
      "два\n",
      "два\n",
      "два\n",
      "восемь\n",
      "много\n",
      "три\n",
      "семь\n",
      "два\n",
      "два\n",
      "два\n",
      "два\n",
      "два\n",
      "несколько\n",
      "несколько\n",
      "два\n",
      "несколько\n",
      "четверо\n",
      "два\n",
      "два\n",
      "сколько\n",
      "два\n",
      "полтора\n",
      "много\n",
      "несколько\n",
      "десять\n",
      "много\n",
      "полтора\n",
      "два\n",
      "мало\n",
      "два\n",
      "два\n",
      "десять\n",
      "десять\n",
      "много\n",
      "сколько\n",
      "много\n",
      "много\n",
      "четыре\n",
      "два\n",
      "два\n",
      "четыре\n",
      "два\n",
      "два\n",
      "семь\n",
      "два\n",
      "два\n",
      "двадцать\n",
      "два\n",
      "много\n",
      "пять\n",
      "сорок\n",
      "двадцать\n",
      "три\n",
      "четыре\n",
      "сто\n",
      "столько\n",
      "девять\n",
      "столько\n",
      "столько\n",
      "три\n",
      "мало\n",
      "три\n",
      "шесть\n",
      "два\n",
      "сколько\n",
      "мало\n",
      "три\n",
      "сколько\n",
      "три\n",
      "четыре\n",
      "десять\n",
      "сколько\n",
      "четыре\n",
      "шесть\n",
      "два\n",
      "пятьдесят\n",
      "шестьдесят\n",
      "три\n",
      "два\n",
      "шестнадцать\n",
      "много\n",
      "пол\n",
      "несколько\n",
      "много\n",
      "тридцать\n",
      "два\n",
      "три\n",
      "немного\n",
      "два\n",
      "несколько\n",
      "три\n",
      "шесть\n",
      "семь\n",
      "три\n",
      "несколько\n",
      "два\n",
      "три\n",
      "много\n",
      "много\n",
      "три\n",
      "четыре\n",
      "два\n",
      "несколько\n",
      "четверо\n",
      "сорок\n",
      "два\n",
      "два\n",
      "много\n",
      "много\n",
      "пятьдесят\n",
      "три\n",
      "много\n",
      "полтора\n",
      "два\n",
      "два\n",
      "несколько\n",
      "три\n",
      "трое\n",
      "сколько\n",
      "пять\n",
      "столько\n",
      "трое\n",
      "много\n",
      "пять\n",
      "четыре\n",
      "мало\n",
      "много\n",
      "два\n",
      "двадцать\n",
      "три\n",
      "пол\n",
      "четыре\n",
      "сорок\n",
      "много\n",
      "два\n",
      "два\n",
      "много\n",
      "пять\n",
      "шесть\n",
      "два\n",
      "много\n",
      "пятьдесят\n",
      "два\n",
      "несколько\n",
      "два\n",
      "три\n",
      "много\n",
      "сколько\n",
      "четыре\n",
      "четыре\n",
      "два\n",
      "пять\n",
      "шесть\n",
      "двадцать\n",
      "два\n",
      "два\n",
      "трое\n",
      "пять\n",
      "немного\n",
      "несколько\n",
      "два\n",
      "два\n",
      "много\n",
      "много\n",
      "пять\n",
      "два\n",
      "два\n",
      "много\n",
      "два\n",
      "два\n",
      "оба\n",
      "три\n",
      "оба\n",
      "много\n",
      "два\n",
      "пол\n",
      "пять\n"
     ]
    }
   ],
   "source": [
    "for sentence in test_data:\n",
    "    for i in range(len(sentence[0])):\n",
    "        if sentence[1][i] == 'NUM':\n",
    "            #print(sentence[0])\n",
    "            print(sentence[0][i])\n",
    "            #print()"
   ]
  }
 ],
 "metadata": {
  "kernelspec": {
   "display_name": "Python 3",
   "language": "python",
   "name": "python3"
  },
  "language_info": {
   "codemirror_mode": {
    "name": "ipython",
    "version": 3
   },
   "file_extension": ".py",
   "mimetype": "text/x-python",
   "name": "python",
   "nbconvert_exporter": "python",
   "pygments_lexer": "ipython3",
   "version": "3.7.2"
  }
 },
 "nbformat": 4,
 "nbformat_minor": 2
}
