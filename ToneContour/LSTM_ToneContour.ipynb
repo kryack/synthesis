{
 "cells": [
  {
   "cell_type": "code",
   "execution_count": 1,
   "metadata": {},
   "outputs": [],
   "source": [
    "%matplotlib inline"
   ]
  },
  {
   "cell_type": "markdown",
   "metadata": {},
   "source": [
    "# An LSTM for Part-of-Speech Tagging\n",
    "https://pytorch.org/tutorials/beginner/nlp/sequence_models_tutorial.html\n"
   ]
  },
  {
   "cell_type": "code",
   "execution_count": 2,
   "metadata": {},
   "outputs": [
    {
     "data": {
      "text/plain": [
       "<torch._C.Generator at 0x7fb650424130>"
      ]
     },
     "execution_count": 2,
     "metadata": {},
     "output_type": "execute_result"
    }
   ],
   "source": [
    "import numpy as np\n",
    "import torch\n",
    "import torch.nn as nn\n",
    "import torch.nn.functional as F\n",
    "import torch.optim as optim\n",
    "\n",
    "torch.manual_seed(1)"
   ]
  },
  {
   "cell_type": "code",
   "execution_count": 51,
   "metadata": {},
   "outputs": [],
   "source": [
    "embedding = nn.Embedding(10, 3, padding_idx=5)"
   ]
  },
  {
   "cell_type": "code",
   "execution_count": 53,
   "metadata": {},
   "outputs": [
    {
     "name": "stdout",
     "output_type": "stream",
     "text": [
      "tensor([[0., 0., 0.]], grad_fn=<EmbeddingBackward>)\n"
     ]
    }
   ],
   "source": [
    "print(embedding(torch.LongTensor([5])))"
   ]
  },
  {
   "cell_type": "markdown",
   "metadata": {},
   "source": [
    "### Load Data"
   ]
  },
  {
   "cell_type": "code",
   "execution_count": 3,
   "metadata": {},
   "outputs": [],
   "source": [
    "path = '../Data/DumaPunct.csv'"
   ]
  },
  {
   "cell_type": "code",
   "execution_count": 4,
   "metadata": {},
   "outputs": [
    {
     "name": "stdout",
     "output_type": "stream",
     "text": [
      "end\n"
     ]
    }
   ],
   "source": [
    "import csv\n",
    "import codecs\n",
    "i = 0\n",
    "\n",
    "LoadDataset = []\n",
    "\n",
    "encoding = 'utf-8'\n",
    "with codecs.open(path, \"r\", encoding) as csvfile:\n",
    "    csv_reader = csv.reader(csvfile, delimiter=',')\n",
    "   \n",
    "    data = []\n",
    "    for row in csv_reader:\n",
    "        \n",
    "        if len(row) == 0:\n",
    "            LoadDataset.append(data)\n",
    "            data = []\n",
    "        else:\n",
    "            word = row[0]\n",
    "            \n",
    "            if word == 'intonation':\n",
    "                tag = int(row[1])\n",
    "                onerow = (word, tag)\n",
    "            \n",
    "            else:\n",
    "                tag = []\n",
    "                for i in row[1][1:-2].split('), '):\n",
    "                    onestr = i[1:].split(', ')\n",
    "                    tag.append((onestr[0][1:-1], int(onestr[1])))\n",
    "                \n",
    "                punct = [int(i) for i in row[2][1:-1].split(', ')]\n",
    "\n",
    "                onerow = (word, tag, punct)\n",
    "\n",
    "                \n",
    "            data.append(onerow)\n",
    "print('end')"
   ]
  },
  {
   "cell_type": "markdown",
   "metadata": {},
   "source": [
    "## Prepare data!"
   ]
  },
  {
   "cell_type": "code",
   "execution_count": 5,
   "metadata": {},
   "outputs": [
    {
     "data": {
      "text/plain": [
       "[('александр',\n",
       "  [('subpart_of_speech', 1), ('form', 1), ('genesys', 1), ('semantics1', 10)],\n",
       "  [0, 0]),\n",
       " ('дюма',\n",
       "  [('subpart_of_speech', 1), ('form', 0), ('genesys', 8), ('semantics1', 20)],\n",
       "  [0, 1]),\n",
       " ('intonation', 11)]"
      ]
     },
     "execution_count": 5,
     "metadata": {},
     "output_type": "execute_result"
    }
   ],
   "source": [
    "LoadDataset[0]"
   ]
  },
  {
   "cell_type": "code",
   "execution_count": 6,
   "metadata": {},
   "outputs": [],
   "source": [
    "def prepare_sequence(seq, to_ix):\n",
    "    idxs = [to_ix[w] for w in seq]\n",
    "    return torch.tensor(idxs, dtype=torch.long)\n",
    "\n",
    "punct_to_ix = { 'nothing': 0,\n",
    "    '.': 1, ',': 2, ':': 3, ';': 4, '!': 5, '?': 6, '!!!': 7, '???': 8, '!?': 9, '?!': 10,\n",
    "    '...': 11, '-': 12, '—': 13, ',-': 14, '/': 15, '\\\\': 16, '|': 17, '\\'': 18\n",
    "}"
   ]
  },
  {
   "cell_type": "code",
   "execution_count": 8,
   "metadata": {},
   "outputs": [],
   "source": [
    "def addpunct(objec, index):\n",
    "    if objec[2][index] != 0:\n",
    "        word = list(punct_to_ix.items())[objec[2][index]][0]\n",
    "        tag = 'PUNCT'\n",
    "        return word, tag\n",
    "    return 0, 'Nothing'"
   ]
  },
  {
   "cell_type": "code",
   "execution_count": 9,
   "metadata": {},
   "outputs": [
    {
     "name": "stdout",
     "output_type": "stream",
     "text": [
      "7662 pidor\n",
      "26360 pidor\n",
      "num of sentences: 32635\n"
     ]
    }
   ],
   "source": [
    "alltags = []\n",
    "\n",
    "data = []\n",
    "i = 0\n",
    "for sentence in LoadDataset:\n",
    "    sentence_data = []\n",
    "    words = []\n",
    "    tags = []\n",
    "    \n",
    "    i += 1\n",
    "    for obj in sentence:\n",
    "        \n",
    "        if obj[0] != 'intonation':\n",
    "            \n",
    "            w, t = addpunct(obj, 0)\n",
    "            if t != 'Nothing':\n",
    "\n",
    "                words.append(w)\n",
    "                tags.append(0)\n",
    "                \n",
    "            words.append(obj[0])\n",
    "            tags.append(0)\n",
    "            \n",
    "            w, t = addpunct(obj, 1)\n",
    "            if t != 'Nothing':\n",
    "\n",
    "                words.append(w)\n",
    "                tags.append(0)\n",
    "        \n",
    "        else:\n",
    "            try:\n",
    "                tags.pop()\n",
    "                tags.append(obj[1])\n",
    "            except IndexError:\n",
    "                \n",
    "                print(i, 'pidor')\n",
    "            alltags.append(obj[1])\n",
    "    \n",
    "    if len(words) != 0 and len(tags) != 0:\n",
    "        sentence_data.append(words)\n",
    "        sentence_data.append(tags)\n",
    "\n",
    "        sentence_data = tuple(sentence_data)\n",
    "        data.append(sentence_data)\n",
    "    \n",
    "print('num of sentences:', len(data))"
   ]
  },
  {
   "cell_type": "code",
   "execution_count": 10,
   "metadata": {},
   "outputs": [
    {
     "data": {
      "text/plain": [
       "{11, 30, 40, 50, 70, 110}"
      ]
     },
     "execution_count": 10,
     "metadata": {},
     "output_type": "execute_result"
    }
   ],
   "source": [
    "set(alltags)"
   ]
  },
  {
   "cell_type": "code",
   "execution_count": 11,
   "metadata": {},
   "outputs": [
    {
     "name": "stdout",
     "output_type": "stream",
     "text": [
      "43502 7\n"
     ]
    }
   ],
   "source": [
    "tag_to_ix = {\n",
    "    0: 0, 11: 1, 30: 2, 40: 3, 50: 4, 70: 5, 110: 6\n",
    "}\n",
    "\n",
    "# create dicts!\n",
    "word_to_ix = {}\n",
    "for sent, tags in data:\n",
    "    for word in sent:\n",
    "        if word not in word_to_ix:\n",
    "            word_to_ix[word] = len(word_to_ix)\n",
    "                  \n",
    "print(len(word_to_ix), len(tag_to_ix))"
   ]
  },
  {
   "cell_type": "code",
   "execution_count": 12,
   "metadata": {},
   "outputs": [
    {
     "data": {
      "text/plain": [
       "[(['александр', 'дюма', '.'], [0, 0, 11]),\n",
       " (['граф', 'монтекристо', '.'], [0, 0, 11]),\n",
       " (['часть', 'первая', '.'], [0, 0, 11]),\n",
       " (['i', '.'], [0, 11]),\n",
       " (['марсель', '.'], [0, 11])]"
      ]
     },
     "execution_count": 12,
     "metadata": {},
     "output_type": "execute_result"
    }
   ],
   "source": [
    "data[:5]"
   ]
  },
  {
   "cell_type": "code",
   "execution_count": null,
   "metadata": {},
   "outputs": [],
   "source": []
  },
  {
   "cell_type": "markdown",
   "metadata": {},
   "source": [
    "### Train_test split"
   ]
  },
  {
   "cell_type": "code",
   "execution_count": 13,
   "metadata": {},
   "outputs": [
    {
     "name": "stdout",
     "output_type": "stream",
     "text": [
      "26108 6527\n"
     ]
    }
   ],
   "source": [
    "from sklearn.model_selection import train_test_split\n",
    "num_of_test = 0.2\n",
    "\n",
    "train_data, test_data = train_test_split(data, test_size = num_of_test, random_state = 42)\n",
    "print(len(train_data), len(test_data))"
   ]
  },
  {
   "cell_type": "code",
   "execution_count": null,
   "metadata": {},
   "outputs": [],
   "source": []
  },
  {
   "cell_type": "markdown",
   "metadata": {},
   "source": [
    "# Train the model:\n",
    "\n"
   ]
  },
  {
   "cell_type": "code",
   "execution_count": 17,
   "metadata": {},
   "outputs": [],
   "source": [
    "class LSTMTagger(nn.Module):\n",
    "\n",
    "    def __init__(self, embedding_dim, hidden_dim1, hidden_dim2, vocab_size, tagset_size):\n",
    "        super(LSTMTagger, self).__init__()\n",
    "        self.hidden_dim1 = hidden_dim1\n",
    "        self.hidden_dim2 = hidden_dim2\n",
    "\n",
    "        self.word_embeddings = nn.Embedding(vocab_size, embedding_dim)\n",
    "\n",
    "        # The LSTM takes word embeddings as inputs, and outputs hidden states\n",
    "        # with dimensionality hidden_dim1.\n",
    "        self.lstm = nn.LSTM(embedding_dim, hidden_dim1, bidirectional=True)\n",
    "\n",
    "        self.lstm2 = nn.LSTM(hidden_dim1*2, hidden_dim2, bidirectional=True)\n",
    "\n",
    "        # The linear layer that maps from hidden state space to tag space\n",
    "        self.hidden2tag = nn.Linear(hidden_dim2*2, tagset_size)\n",
    "        self.hidden1 = self.init_hidden1()\n",
    "        self.hidden2 = self.init_hidden2()\n",
    "\n",
    "    def init_hidden1(self):\n",
    "\n",
    "        return (torch.zeros(2, 1, self.hidden_dim1),\n",
    "                torch.zeros(2, 1, self.hidden_dim1))\n",
    "\n",
    "    def init_hidden2(self):\n",
    "\n",
    "        return (torch.zeros(2, 1, self.hidden_dim2),\n",
    "                torch.zeros(2, 1, self.hidden_dim2))\n",
    "\n",
    "    def forward(self, sentence):\n",
    "        embeds = self.word_embeddings(sentence)\n",
    "        \n",
    "        lstm_out, self.hidden = self.lstm(\n",
    "            embeds.view(len(sentence), 1, -1), self.hidden1)\n",
    "\n",
    "        lstm_out2, self.hidden = self.lstm2(\n",
    "            lstm_out.view(len(sentence), 1, -1), self.hidden2)\n",
    "\n",
    "        tag_space = self.hidden2tag(lstm_out2.view(len(sentence), -1))\n",
    "        tag_scores = F.log_softmax(tag_space, dim=1)\n",
    "        return tag_scores"
   ]
  },
  {
   "cell_type": "markdown",
   "metadata": {},
   "source": [
    "## Funcs"
   ]
  },
  {
   "cell_type": "code",
   "execution_count": 15,
   "metadata": {},
   "outputs": [],
   "source": [
    "def train(sentence, tag):\n",
    "    model.zero_grad()\n",
    "\n",
    "    sentence_in = prepare_sequence(sentence, word_to_ix)\n",
    "    targets = prepare_sequence(tag, tag_to_ix)\n",
    "\n",
    "    # forward pass\n",
    "    tag_scores = model(sentence_in)\n",
    "\n",
    "    # loss and backward\n",
    "    loss = loss_function(tag_scores, targets)\n",
    "    #print(tag_scores, targets, loss)\n",
    "    for i in targets:\n",
    "        if i == 2 or i == 3 or i == 4:\n",
    "            loss *= 5\n",
    "            break\n",
    "        elif i == 5:\n",
    "            loss *= 5\n",
    "            break\n",
    "            #print(loss)\n",
    "    \n",
    "    loss.backward()\n",
    "    \n",
    "    loss.detach_()\n",
    "    \n",
    "    optimizer.step()\n",
    "        \n",
    "    return tag_scores, loss"
   ]
  },
  {
   "cell_type": "code",
   "execution_count": 16,
   "metadata": {},
   "outputs": [],
   "source": [
    "from sklearn.metrics import accuracy_score\n",
    "\n",
    "def evaluate(num_iter = 100):\n",
    "    with torch.no_grad():\n",
    "        \n",
    "        main_score = 0\n",
    "        for i in range(num_iter):\n",
    "            rng = np.random.randint(len(test_data))\n",
    "\n",
    "            inputs = prepare_sequence(test_data[rng][0], word_to_ix)\n",
    "            output = model(inputs)\n",
    "\n",
    "            # get top\n",
    "            topv, topi = output.topk(1)\n",
    "            true_values = prepare_sequence(test_data[rng][1], tag_to_ix)\n",
    "\n",
    "            score = accuracy_score(true_values, topi)\n",
    "            main_score += score\n",
    "        \n",
    "        return main_score / num_iter"
   ]
  },
  {
   "cell_type": "code",
   "execution_count": 18,
   "metadata": {},
   "outputs": [],
   "source": [
    "def total_evaluate():\n",
    "    with torch.no_grad():\n",
    "        \n",
    "        main_score = 0\n",
    "        for i in range(len(test_data)):\n",
    "\n",
    "            inputs = prepare_sequence(test_data[i][0], word_to_ix)\n",
    "            output = model(inputs)\n",
    "\n",
    "            # get top\n",
    "            topv, topi = output.topk(1)\n",
    "            true_values = prepare_sequence(test_data[i][1], tag_to_ix)\n",
    "\n",
    "            score = accuracy_score(true_values, topi)\n",
    "            main_score += score\n",
    "        \n",
    "        return main_score / len(test_data)"
   ]
  },
  {
   "cell_type": "code",
   "execution_count": 19,
   "metadata": {},
   "outputs": [],
   "source": [
    "def train_rng():\n",
    "    \n",
    "    rng = np.random.randint(len(train_data))\n",
    "    \n",
    "    sentence = train_data[rng][0]\n",
    "    tag = train_data[rng][1]\n",
    "    \n",
    "    return sentence, tag"
   ]
  },
  {
   "cell_type": "code",
   "execution_count": 20,
   "metadata": {},
   "outputs": [],
   "source": [
    "import time\n",
    "import math\n",
    "\n",
    "def timeSince(since):\n",
    "    now = time.time()\n",
    "    s = now - since\n",
    "    m = math.floor(s / 60)\n",
    "    s -= m * 60\n",
    "    return '%dm %ds' % (m, s)"
   ]
  },
  {
   "cell_type": "markdown",
   "metadata": {},
   "source": [
    "## GONNA TRAIN!"
   ]
  },
  {
   "cell_type": "markdown",
   "metadata": {},
   "source": [
    "# Attention 2-4 + BIG 5"
   ]
  },
  {
   "cell_type": "code",
   "execution_count": 36,
   "metadata": {},
   "outputs": [
    {
     "name": "stdout",
     "output_type": "stream",
     "text": [
      "              precision    recall  f1-score   support\n",
      "\n",
      "           0       0.99      0.99      0.99    305644\n",
      "          11       0.99      0.99      0.99     28460\n",
      "          30       0.87      0.78      0.82      1770\n",
      "          40       0.95      0.97      0.96      1636\n",
      "          50       0.88      0.84      0.86       487\n",
      "          70       0.86      0.83      0.84      2230\n",
      "         110       0.94      0.91      0.93     36998\n",
      "\n",
      "   micro avg       0.98      0.98      0.98    377225\n",
      "   macro avg       0.93      0.90      0.91    377225\n",
      "weighted avg       0.98      0.98      0.98    377225\n",
      "\n"
     ]
    }
   ],
   "source": [
    "from sklearn.metrics import accuracy_score, f1_score, confusion_matrix, classification_report\n",
    "\n",
    "a = classification_report(y_test, y_train, target_names = [str(K) for K in list(tag_to_ix.keys())])\n",
    "\n",
    "print(a)"
   ]
  },
  {
   "cell_type": "code",
   "execution_count": 21,
   "metadata": {},
   "outputs": [],
   "source": [
    "EMBEDDING_DIM = 256\n",
    "HIDDEN_DIM = 256\n",
    "HIDDEN_DIM2 = 128\n",
    "\n",
    "model = LSTMTagger(EMBEDDING_DIM, HIDDEN_DIM, HIDDEN_DIM2, len(word_to_ix), len(tag_to_ix))\n",
    "loss_function = nn.NLLLoss()\n",
    "\n",
    "all_losses = []"
   ]
  },
  {
   "cell_type": "code",
   "execution_count": 27,
   "metadata": {
    "scrolled": true
   },
   "outputs": [
    {
     "name": "stdout",
     "output_type": "stream",
     "text": [
      "250 3% (0m 22s) loss: 0.0104 accuracy on test: 0.9823\n",
      "500 7% (0m 45s) loss: 0.0028 accuracy on test: 0.9744\n",
      "750 10% (1m 10s) loss: 0.0013 accuracy on test: 0.9905\n",
      "1000 14% (1m 33s) loss: 0.1971 accuracy on test: 0.9842\n",
      "1250 17% (1m 56s) loss: 0.0052 accuracy on test: 0.9822\n",
      "1500 21% (2m 18s) loss: 0.0098 accuracy on test: 0.9835\n",
      "1750 25% (2m 44s) loss: 0.7189 accuracy on test: 0.9847\n",
      "2000 28% (3m 8s) loss: 0.0064 accuracy on test: 0.9887\n",
      "2250 32% (3m 33s) loss: 0.4790 accuracy on test: 0.9846\n",
      "2500 35% (3m 56s) loss: 0.0064 accuracy on test: 0.9828\n",
      "2750 39% (4m 20s) loss: 0.2480 accuracy on test: 0.9912\n",
      "3000 42% (4m 44s) loss: 0.0780 accuracy on test: 0.9871\n",
      "3250 46% (5m 8s) loss: 0.0039 accuracy on test: 0.9863\n",
      "3500 50% (5m 31s) loss: 0.0235 accuracy on test: 0.9837\n",
      "3750 53% (5m 55s) loss: 2.9753 accuracy on test: 0.9839\n",
      "4000 57% (6m 19s) loss: 0.0352 accuracy on test: 0.9810\n",
      "4250 60% (6m 42s) loss: 0.0349 accuracy on test: 0.9803\n",
      "4500 64% (7m 4s) loss: 0.0085 accuracy on test: 0.9885\n",
      "4750 67% (7m 27s) loss: 0.0031 accuracy on test: 0.9881\n",
      "5000 71% (7m 48s) loss: 0.0111 accuracy on test: 0.9890\n",
      "5250 75% (8m 8s) loss: 0.0014 accuracy on test: 0.9857\n",
      "5500 78% (8m 30s) loss: 0.0224 accuracy on test: 0.9868\n",
      "5750 82% (8m 54s) loss: 0.0090 accuracy on test: 0.9934\n",
      "6000 85% (9m 17s) loss: 0.0808 accuracy on test: 0.9820\n",
      "6250 89% (9m 40s) loss: 0.0053 accuracy on test: 0.9781\n",
      "6500 92% (10m 3s) loss: 0.1004 accuracy on test: 0.9876\n",
      "6750 96% (10m 24s) loss: 0.0025 accuracy on test: 0.9870\n",
      "7000 100% (10m 46s) loss: 0.0051 accuracy on test: 0.9878\n"
     ]
    }
   ],
   "source": [
    "learning_rate = 0.01\n",
    "\n",
    "optimizer = optim.SGD(model.parameters(), lr=learning_rate)\n",
    "\n",
    "n_iters = 7000\n",
    "\n",
    "plot_every = 100\n",
    "print_every = 250\n",
    "\n",
    "current_loss = 0\n",
    "#all_losses = []\n",
    "\n",
    "start = time.time()\n",
    "\n",
    "model.hidden1 = model.init_hidden1()\n",
    "model.hidden2 = model.init_hidden2()\n",
    "\n",
    "\n",
    "for i in range(1, n_iters + 1):\n",
    "    \n",
    "    se, tag = train_rng()\n",
    "    out, loss = train(se, tag)\n",
    "    current_loss += loss\n",
    "    \n",
    "    if i % print_every == 0:\n",
    "        print('%d %d%% (%s) loss: %.4f accuracy on test: %.4f' % (i, i / n_iters * 100, \n",
    "                                                                  timeSince(start), loss, evaluate()))\n",
    "\n",
    "    \n",
    "    if i % plot_every == 0:\n",
    "        all_losses.append(current_loss / plot_every)\n",
    "        current_loss = 0"
   ]
  },
  {
   "cell_type": "code",
   "execution_count": 28,
   "metadata": {},
   "outputs": [
    {
     "name": "stdout",
     "output_type": "stream",
     "text": [
      "0.9852290386953263\n"
     ]
    },
    {
     "data": {
      "image/png": "[encoded data removed]",
      "text/plain": [
       "<Figure size 432x288 with 1 Axes>"
      ]
     },
     "metadata": {
      "needs_background": "light"
     },
     "output_type": "display_data"
    }
   ],
   "source": [
    "import matplotlib.pyplot as plt\n",
    "\n",
    "print(total_evaluate())\n",
    "\n",
    "plt.plot(all_losses)\n",
    "plt.show()"
   ]
  },
  {
   "cell_type": "code",
   "execution_count": 29,
   "metadata": {},
   "outputs": [],
   "source": [
    "all_categories = list(tag_to_ix)\n",
    "n_categories = len(all_categories)\n",
    "\n",
    "# Keep track of correct guesses in a confusion matrix\n",
    "confusion = torch.zeros(n_categories, n_categories) \n",
    "\n",
    "y_test = []\n",
    "y_train = []\n",
    "with torch.no_grad():\n",
    "    for i in range(len(test_data)):\n",
    "\n",
    "        inputs = prepare_sequence(test_data[i][0], word_to_ix)\n",
    "        output = model(inputs)\n",
    "\n",
    "        # get top\n",
    "        topv, topi = output.topk(1)\n",
    "        true_values = prepare_sequence(test_data[i][1], tag_to_ix)\n",
    "    \n",
    "        for j in range(len(true_values)):\n",
    "            confusion[true_values[j]][topi[j]] += 1 # инк ячейку\n",
    "            y_train.append(topi[j].item())\n",
    "            y_test.append(true_values[j].item())\n",
    "            \n",
    "normalize_confusion = torch.clone(confusion)\n",
    "# Normalize \n",
    "for i in range(n_categories):\n",
    "    normalize_confusion[i] = normalize_confusion[i] / normalize_confusion[i].sum()"
   ]
  },
  {
   "cell_type": "code",
   "execution_count": 30,
   "metadata": {},
   "outputs": [
    {
     "data": {
      "image/png": "[encoded data removed]",
      "text/plain": [
       "<Figure size 576x576 with 2 Axes>"
      ]
     },
     "metadata": {
      "needs_background": "light"
     },
     "output_type": "display_data"
    }
   ],
   "source": [
    "from matplotlib import ticker\n",
    "\n",
    "# Set up plot\n",
    "fig = plt.figure(figsize=(8, 8))\n",
    "ax = fig.add_subplot(111)\n",
    "cax = ax.matshow(normalize_confusion.numpy())\n",
    "fig.colorbar(cax)\n",
    "\n",
    "# Set up axes\n",
    "ax.set_xticklabels([''] + all_categories, rotation=90)\n",
    "ax.set_yticklabels([''] + all_categories)\n",
    "\n",
    "# Force label at every tick\n",
    "ax.xaxis.set_major_locator(ticker.MultipleLocator(1))\n",
    "ax.yaxis.set_major_locator(ticker.MultipleLocator(1))\n",
    "\n",
    "plt.show()"
   ]
  },
  {
   "cell_type": "code",
   "execution_count": 31,
   "metadata": {},
   "outputs": [
    {
     "name": "stdout",
     "output_type": "stream",
     "text": [
      "tensor(0.9943) tensor(74776.)\n",
      "tensor(0.9908) tensor(6984.)\n",
      "tensor(0.7768) tensor(348.)\n",
      "tensor(0.9660) tensor(369.)\n",
      "tensor(0.8416) tensor(85.)\n",
      "tensor(0.7955) tensor(459.)\n",
      "tensor(0.9020) tensor(8256.)\n",
      "1.0444865822792053\n"
     ]
    }
   ],
   "source": [
    "# ~7700, ~700, 63, 27, 13, 41, ~900\n",
    "all_perc = 0\n",
    "for i in range(n_categories):\n",
    "    \n",
    "    percent = normalize_confusion[i][i].item()\n",
    "    all_perc += percent\n",
    "    \n",
    "    print(normalize_confusion[i][i], confusion[i][i])\n",
    "    \n",
    "print(all_perc / (n_categories - 1))"
   ]
  },
  {
   "cell_type": "code",
   "execution_count": null,
   "metadata": {},
   "outputs": [],
   "source": []
  },
  {
   "cell_type": "code",
   "execution_count": 35,
   "metadata": {},
   "outputs": [],
   "source": [
    "all_categories = list(tag_to_ix)\n",
    "n_categories = len(all_categories)\n",
    "\n",
    "# Keep track of correct guesses in a confusion matrix\n",
    "confusion = torch.zeros(n_categories, n_categories) \n",
    "y_test = []\n",
    "y_train = []\n",
    "with torch.no_grad():\n",
    "    for i in range(len(train_data)):\n",
    "\n",
    "        inputs = prepare_sequence(train_data[i][0], word_to_ix)\n",
    "        output = model(inputs)\n",
    "\n",
    "        # get top\n",
    "        topv, topi = output.topk(1)\n",
    "        true_values = prepare_sequence(train_data[i][1], tag_to_ix)\n",
    "    \n",
    "        for j in range(len(true_values)):\n",
    "            confusion[true_values[j]][topi[j]] += 1 # инк ячейку\n",
    "            y_train.append(topi[j].item())\n",
    "            y_test.append(true_values[j].item())            \n",
    "normalize_confusion = torch.clone(confusion)\n",
    "# Normalize \n",
    "for i in range(n_categories):\n",
    "    normalize_confusion[i] = normalize_confusion[i] / normalize_confusion[i].sum()"
   ]
  },
  {
   "cell_type": "code",
   "execution_count": 33,
   "metadata": {},
   "outputs": [
    {
     "data": {
      "image/png": "[encoded data removed]",
      "text/plain": [
       "<Figure size 576x576 with 2 Axes>"
      ]
     },
     "metadata": {
      "needs_background": "light"
     },
     "output_type": "display_data"
    }
   ],
   "source": [
    "from matplotlib import ticker\n",
    "\n",
    "# Set up plot\n",
    "fig = plt.figure(figsize=(8, 8))\n",
    "ax = fig.add_subplot(111)\n",
    "cax = ax.matshow(normalize_confusion.numpy())\n",
    "fig.colorbar(cax)\n",
    "\n",
    "# Set up axes\n",
    "ax.set_xticklabels([''] + all_categories, rotation=90)\n",
    "ax.set_yticklabels([''] + all_categories)\n",
    "\n",
    "# Force label at every tick\n",
    "ax.xaxis.set_major_locator(ticker.MultipleLocator(1))\n",
    "ax.yaxis.set_major_locator(ticker.MultipleLocator(1))\n",
    "\n",
    "plt.show()"
   ]
  },
  {
   "cell_type": "code",
   "execution_count": 34,
   "metadata": {},
   "outputs": [
    {
     "name": "stdout",
     "output_type": "stream",
     "text": [
      "tensor(0.9944) tensor(303931.)\n",
      "tensor(0.9921) tensor(28236.)\n",
      "tensor(0.7808) tensor(1382.)\n",
      "tensor(0.9700) tensor(1587.)\n",
      "tensor(0.8419) tensor(410.)\n",
      "tensor(0.8283) tensor(1847.)\n",
      "tensor(0.9094) tensor(33645.)\n",
      "1.052813063065211\n"
     ]
    }
   ],
   "source": [
    "# ~7700, ~700, 63, 27, 13, 41, ~900\n",
    "all_perc = 0\n",
    "for i in range(n_categories):\n",
    "    \n",
    "    percent = normalize_confusion[i][i].item()\n",
    "    all_perc += percent\n",
    "    \n",
    "    print(normalize_confusion[i][i], confusion[i][i])\n",
    "    \n",
    "print(all_perc / (n_categories - 1))"
   ]
  },
  {
   "cell_type": "code",
   "execution_count": null,
   "metadata": {},
   "outputs": [],
   "source": []
  },
  {
   "cell_type": "markdown",
   "metadata": {},
   "source": [
    "# Attention 2-5"
   ]
  },
  {
   "cell_type": "code",
   "execution_count": 86,
   "metadata": {},
   "outputs": [],
   "source": [
    "EMBEDDING_DIM = 256\n",
    "HIDDEN_DIM = 256\n",
    "HIDDEN_DIM2 = 128\n",
    "\n",
    "model = LSTMTagger(EMBEDDING_DIM, HIDDEN_DIM, HIDDEN_DIM2, len(word_to_ix), len(tag_to_ix))\n",
    "loss_function = nn.NLLLoss()\n",
    "\n",
    "all_losses = []"
   ]
  },
  {
   "cell_type": "code",
   "execution_count": 87,
   "metadata": {
    "scrolled": true
   },
   "outputs": [
    {
     "name": "stdout",
     "output_type": "stream",
     "text": [
      "250 3% (0m 29s) loss: 0.3770 accuracy on test: 0.9048\n",
      "500 6% (1m 3s) loss: 0.2119 accuracy on test: 0.9597\n",
      "750 9% (1m 39s) loss: 0.0093 accuracy on test: 0.9532\n",
      "1000 12% (2m 13s) loss: 0.2857 accuracy on test: 0.9584\n",
      "1250 15% (2m 46s) loss: 0.4748 accuracy on test: 0.9608\n",
      "1500 18% (3m 17s) loss: 0.8562 accuracy on test: 0.9646\n",
      "1750 21% (3m 51s) loss: 0.0501 accuracy on test: 0.9787\n",
      "2000 25% (4m 23s) loss: 1.1603 accuracy on test: 0.9319\n",
      "2250 28% (5m 0s) loss: 0.0358 accuracy on test: 0.9227\n",
      "2500 31% (5m 43s) loss: 0.0762 accuracy on test: 0.9521\n",
      "2750 34% (6m 22s) loss: 1.4389 accuracy on test: 0.9005\n",
      "3000 37% (7m 1s) loss: 0.4195 accuracy on test: 0.9575\n",
      "3250 40% (7m 33s) loss: 0.0035 accuracy on test: 0.9751\n",
      "3500 43% (8m 7s) loss: 0.1358 accuracy on test: 0.9664\n",
      "3750 46% (8m 38s) loss: 0.0550 accuracy on test: 0.9679\n",
      "4000 50% (9m 10s) loss: 3.3848 accuracy on test: 0.9298\n",
      "4250 53% (9m 42s) loss: 0.0047 accuracy on test: 0.9658\n",
      "4500 56% (10m 10s) loss: 0.0253 accuracy on test: 0.9673\n",
      "4750 59% (10m 38s) loss: 0.0437 accuracy on test: 0.9650\n",
      "5000 62% (11m 3s) loss: 0.0057 accuracy on test: 0.9702\n",
      "5250 65% (11m 26s) loss: 0.1649 accuracy on test: 0.9696\n",
      "5500 68% (11m 55s) loss: 0.0134 accuracy on test: 0.9742\n",
      "5750 71% (12m 22s) loss: 0.0107 accuracy on test: 0.9718\n",
      "6000 75% (12m 53s) loss: 0.0048 accuracy on test: 0.9714\n",
      "6250 78% (13m 22s) loss: 0.0120 accuracy on test: 0.9700\n",
      "6500 81% (13m 55s) loss: 0.0629 accuracy on test: 0.9756\n",
      "6750 84% (14m 25s) loss: 0.0005 accuracy on test: 0.9730\n",
      "7000 87% (14m 57s) loss: 0.2347 accuracy on test: 0.9786\n",
      "7250 90% (15m 29s) loss: 0.0005 accuracy on test: 0.9763\n",
      "7500 93% (16m 0s) loss: 0.0102 accuracy on test: 0.9772\n",
      "7750 96% (16m 26s) loss: 0.0160 accuracy on test: 0.9553\n",
      "8000 100% (16m 54s) loss: 0.6399 accuracy on test: 0.9711\n"
     ]
    }
   ],
   "source": [
    "learning_rate = 0.1\n",
    "\n",
    "optimizer = optim.SGD(model.parameters(), lr=learning_rate)\n",
    "\n",
    "n_iters = 8000\n",
    "\n",
    "plot_every = 100\n",
    "print_every = 250\n",
    "\n",
    "current_loss = 0\n",
    "#all_losses = []\n",
    "\n",
    "start = time.time()\n",
    "\n",
    "model.hidden1 = model.init_hidden1()\n",
    "model.hidden2 = model.init_hidden2()\n",
    "\n",
    "\n",
    "for i in range(1, n_iters + 1):\n",
    "    \n",
    "    se, tag = train_rng()\n",
    "    out, loss = train(se, tag)\n",
    "    current_loss += loss\n",
    "    \n",
    "    if i % print_every == 0:\n",
    "        print('%d %d%% (%s) loss: %.4f accuracy on test: %.4f' % (i, i / n_iters * 100, \n",
    "                                                                  timeSince(start), loss, evaluate()))\n",
    "\n",
    "    \n",
    "    if i % plot_every == 0:\n",
    "        all_losses.append(current_loss / plot_every)\n",
    "        current_loss = 0"
   ]
  },
  {
   "cell_type": "code",
   "execution_count": 88,
   "metadata": {},
   "outputs": [
    {
     "name": "stdout",
     "output_type": "stream",
     "text": [
      "0.9686576025831117\n"
     ]
    },
    {
     "data": {
      "image/png": "[encoded data removed]",
      "text/plain": [
       "<Figure size 432x288 with 1 Axes>"
      ]
     },
     "metadata": {
      "needs_background": "light"
     },
     "output_type": "display_data"
    }
   ],
   "source": [
    "import matplotlib.pyplot as plt\n",
    "\n",
    "print(total_evaluate())\n",
    "\n",
    "plt.plot(all_losses)\n",
    "plt.show()"
   ]
  },
  {
   "cell_type": "code",
   "execution_count": 89,
   "metadata": {},
   "outputs": [],
   "source": [
    "all_categories = list(tag_to_ix)\n",
    "n_categories = len(all_categories)\n",
    "\n",
    "# Keep track of correct guesses in a confusion matrix\n",
    "confusion = torch.zeros(n_categories, n_categories) \n",
    "\n",
    "with torch.no_grad():\n",
    "    for i in range(len(test_data)):\n",
    "\n",
    "        inputs = prepare_sequence(test_data[i][0], word_to_ix)\n",
    "        output = model(inputs)\n",
    "\n",
    "        # get top\n",
    "        topv, topi = output.topk(1)\n",
    "        true_values = prepare_sequence(test_data[i][1], tag_to_ix)\n",
    "    \n",
    "        for j in range(len(true_values)):\n",
    "            confusion[true_values[j]][topi[j]] += 1 # инк ячейку\n",
    "            \n",
    "normalize_confusion = torch.clone(confusion)\n",
    "# Normalize \n",
    "for i in range(n_categories):\n",
    "    normalize_confusion[i] = normalize_confusion[i] / normalize_confusion[i].sum()"
   ]
  },
  {
   "cell_type": "code",
   "execution_count": 90,
   "metadata": {},
   "outputs": [
    {
     "data": {
      "image/png": "[encoded data removed]",
      "text/plain": [
       "<Figure size 576x576 with 2 Axes>"
      ]
     },
     "metadata": {
      "needs_background": "light"
     },
     "output_type": "display_data"
    }
   ],
   "source": [
    "from matplotlib import ticker\n",
    "\n",
    "# Set up plot\n",
    "fig = plt.figure(figsize=(8, 8))\n",
    "ax = fig.add_subplot(111)\n",
    "cax = ax.matshow(normalize_confusion.numpy())\n",
    "fig.colorbar(cax)\n",
    "\n",
    "# Set up axes\n",
    "ax.set_xticklabels([''] + all_categories, rotation=90)\n",
    "ax.set_yticklabels([''] + all_categories)\n",
    "\n",
    "# Force label at every tick\n",
    "ax.xaxis.set_major_locator(ticker.MultipleLocator(1))\n",
    "ax.yaxis.set_major_locator(ticker.MultipleLocator(1))\n",
    "\n",
    "plt.show()"
   ]
  },
  {
   "cell_type": "code",
   "execution_count": 91,
   "metadata": {},
   "outputs": [
    {
     "name": "stdout",
     "output_type": "stream",
     "text": [
      "tensor(0.9899) tensor(7657.)\n",
      "tensor(0.9448) tensor(633.)\n",
      "tensor(0.6984) tensor(44.)\n",
      "tensor(0.9259) tensor(25.)\n",
      "tensor(0.6154) tensor(8.)\n",
      "tensor(0.) tensor(0.)\n",
      "tensor(0.8897) tensor(774.)\n",
      "tensor(0.8440)\n"
     ]
    },
    {
     "name": "stderr",
     "output_type": "stream",
     "text": [
      "/home/nbuser/anaconda3_501/lib/python3.6/site-packages/ipykernel/__main__.py:4: UserWarning: invalid index of a 0-dim tensor. This will be an error in PyTorch 0.5. Use tensor.item() to convert a 0-dim tensor to a Python number\n"
     ]
    }
   ],
   "source": [
    "# ~7700, ~700, 63, 27, 13, 41, ~900\n",
    "all_perc = 0\n",
    "for i in range(n_categories):\n",
    "    \n",
    "    percent = normalize_confusion[i][i][0]\n",
    "    all_perc += percent\n",
    "    \n",
    "    print(normalize_confusion[i][i], confusion[i][i])\n",
    "    \n",
    "print(all_perc / (n_categories - 1))"
   ]
  },
  {
   "cell_type": "code",
   "execution_count": 99,
   "metadata": {},
   "outputs": [],
   "source": [
    "all_categories = list(tag_to_ix)\n",
    "n_categories = len(all_categories)\n",
    "\n",
    "# Keep track of correct guesses in a confusion matrix\n",
    "confusion = torch.zeros(n_categories, n_categories) \n",
    "\n",
    "with torch.no_grad():\n",
    "    for i in range(len(train_data)):\n",
    "\n",
    "        inputs = prepare_sequence(train_data[i][0], word_to_ix)\n",
    "        output = model(inputs)\n",
    "\n",
    "        # get top\n",
    "        topv, topi = output.topk(1)\n",
    "        true_values = prepare_sequence(train_data[i][1], tag_to_ix)\n",
    "    \n",
    "        for j in range(len(true_values)):\n",
    "            confusion[true_values[j]][topi[j]] += 1 # инк ячейку\n",
    "            \n",
    "normalize_confusion = torch.clone(confusion)\n",
    "# Normalize \n",
    "for i in range(n_categories):\n",
    "    normalize_confusion[i] = normalize_confusion[i] / normalize_confusion[i].sum()"
   ]
  },
  {
   "cell_type": "code",
   "execution_count": 100,
   "metadata": {},
   "outputs": [
    {
     "data": {
      "image/png": "[encoded data removed]",
      "text/plain": [
       "<Figure size 576x576 with 2 Axes>"
      ]
     },
     "metadata": {
      "needs_background": "light"
     },
     "output_type": "display_data"
    }
   ],
   "source": [
    "from matplotlib import ticker\n",
    "\n",
    "# Set up plot\n",
    "fig = plt.figure(figsize=(8, 8))\n",
    "ax = fig.add_subplot(111)\n",
    "cax = ax.matshow(normalize_confusion.numpy())\n",
    "fig.colorbar(cax)\n",
    "\n",
    "# Set up axes\n",
    "ax.set_xticklabels([''] + all_categories, rotation=90)\n",
    "ax.set_yticklabels([''] + all_categories)\n",
    "\n",
    "# Force label at every tick\n",
    "ax.xaxis.set_major_locator(ticker.MultipleLocator(1))\n",
    "ax.yaxis.set_major_locator(ticker.MultipleLocator(1))\n",
    "\n",
    "plt.show()"
   ]
  },
  {
   "cell_type": "code",
   "execution_count": 101,
   "metadata": {},
   "outputs": [
    {
     "name": "stdout",
     "output_type": "stream",
     "text": [
      "tensor(0.9906) tensor(67544.)\n",
      "tensor(0.9414) tensor(5718.)\n",
      "tensor(0.8231) tensor(349.)\n",
      "tensor(0.9087) tensor(229.)\n",
      "tensor(0.7742) tensor(72.)\n",
      "tensor(0.0462) tensor(16.)\n",
      "tensor(0.8584) tensor(6501.)\n",
      "tensor(0.8904)\n"
     ]
    },
    {
     "name": "stderr",
     "output_type": "stream",
     "text": [
      "/home/nbuser/anaconda3_501/lib/python3.6/site-packages/ipykernel/__main__.py:5: UserWarning: invalid index of a 0-dim tensor. This will be an error in PyTorch 0.5. Use tensor.item() to convert a 0-dim tensor to a Python number\n"
     ]
    }
   ],
   "source": [
    "# ~7700, ~700, 63, 27, 13, 41, ~900\n",
    "all_perc = 0\n",
    "for i in range(n_categories):\n",
    "    \n",
    "    percent = normalize_confusion[i][i][0]\n",
    "    all_perc += percent\n",
    "    \n",
    "    print(normalize_confusion[i][i], confusion[i][i])\n",
    "    \n",
    "print(all_perc / (n_categories - 1))"
   ]
  },
  {
   "cell_type": "code",
   "execution_count": null,
   "metadata": {},
   "outputs": [],
   "source": []
  },
  {
   "cell_type": "code",
   "execution_count": null,
   "metadata": {},
   "outputs": [],
   "source": []
  },
  {
   "cell_type": "markdown",
   "metadata": {},
   "source": [
    "# Attention 2, 4-5"
   ]
  },
  {
   "cell_type": "code",
   "execution_count": 79,
   "metadata": {},
   "outputs": [],
   "source": [
    "EMBEDDING_DIM = 256\n",
    "HIDDEN_DIM = 256\n",
    "HIDDEN_DIM2 = 128\n",
    "\n",
    "model = LSTMTagger(EMBEDDING_DIM, HIDDEN_DIM, HIDDEN_DIM2, len(word_to_ix), len(tag_to_ix))\n",
    "loss_function = nn.NLLLoss()\n",
    "\n",
    "all_losses = []"
   ]
  },
  {
   "cell_type": "code",
   "execution_count": 80,
   "metadata": {
    "scrolled": true
   },
   "outputs": [
    {
     "name": "stdout",
     "output_type": "stream",
     "text": [
      "250 5% (0m 31s) loss: 0.1722 accuracy on test: 0.8954\n",
      "500 10% (0m 59s) loss: 0.4366 accuracy on test: 0.9240\n",
      "750 15% (1m 29s) loss: 0.1375 accuracy on test: 0.9353\n",
      "1000 20% (1m 57s) loss: 0.0805 accuracy on test: 0.9680\n",
      "1250 25% (2m 28s) loss: 0.1146 accuracy on test: 0.9430\n",
      "1500 30% (2m 56s) loss: 0.6989 accuracy on test: 0.8788\n",
      "1750 35% (3m 27s) loss: 0.2947 accuracy on test: 0.9519\n",
      "2000 40% (3m 54s) loss: 1.9761 accuracy on test: 0.9120\n",
      "2250 45% (4m 23s) loss: 0.1434 accuracy on test: 0.8796\n",
      "2500 50% (4m 50s) loss: 2.0540 accuracy on test: 0.8928\n",
      "2750 55% (5m 24s) loss: 0.0061 accuracy on test: 0.9495\n",
      "3000 60% (5m 57s) loss: 0.0056 accuracy on test: 0.9631\n",
      "3250 65% (6m 30s) loss: 0.0714 accuracy on test: 0.9476\n",
      "3500 70% (7m 1s) loss: 0.0466 accuracy on test: 0.9678\n",
      "3750 75% (7m 34s) loss: 0.0398 accuracy on test: 0.9553\n",
      "4000 80% (8m 8s) loss: 0.0757 accuracy on test: 0.9579\n",
      "4250 85% (8m 44s) loss: 0.0046 accuracy on test: 0.9611\n",
      "4500 90% (9m 16s) loss: 0.0035 accuracy on test: 0.9569\n",
      "4750 95% (9m 44s) loss: 0.0306 accuracy on test: 0.9537\n",
      "5000 100% (10m 12s) loss: 0.1205 accuracy on test: 0.9693\n"
     ]
    }
   ],
   "source": [
    "learning_rate = 0.1\n",
    "\n",
    "optimizer = optim.SGD(model.parameters(), lr=learning_rate)\n",
    "\n",
    "n_iters = 5000\n",
    "\n",
    "plot_every = 100\n",
    "print_every = 250\n",
    "\n",
    "current_loss = 0\n",
    "#all_losses = []\n",
    "\n",
    "start = time.time()\n",
    "\n",
    "model.hidden1 = model.init_hidden1()\n",
    "model.hidden2 = model.init_hidden2()\n",
    "\n",
    "\n",
    "for i in range(1, n_iters + 1):\n",
    "    \n",
    "    se, tag = train_rng()\n",
    "    out, loss = train(se, tag)\n",
    "    current_loss += loss\n",
    "    \n",
    "    if i % print_every == 0:\n",
    "        print('%d %d%% (%s) loss: %.4f accuracy on test: %.4f' % (i, i / n_iters * 100, \n",
    "                                                                  timeSince(start), loss, evaluate()))\n",
    "\n",
    "    \n",
    "    if i % plot_every == 0:\n",
    "        all_losses.append(current_loss / plot_every)\n",
    "        current_loss = 0"
   ]
  },
  {
   "cell_type": "code",
   "execution_count": 81,
   "metadata": {},
   "outputs": [
    {
     "name": "stdout",
     "output_type": "stream",
     "text": [
      "0.9630803722647777\n"
     ]
    },
    {
     "data": {
      "image/png": "[encoded data removed]",
      "text/plain": [
       "<Figure size 432x288 with 1 Axes>"
      ]
     },
     "metadata": {
      "needs_background": "light"
     },
     "output_type": "display_data"
    }
   ],
   "source": [
    "import matplotlib.pyplot as plt\n",
    "\n",
    "print(total_evaluate())\n",
    "\n",
    "plt.plot(all_losses)\n",
    "plt.show()"
   ]
  },
  {
   "cell_type": "code",
   "execution_count": 82,
   "metadata": {},
   "outputs": [],
   "source": [
    "all_categories = list(tag_to_ix)\n",
    "n_categories = len(all_categories)\n",
    "\n",
    "# Keep track of correct guesses in a confusion matrix\n",
    "confusion = torch.zeros(n_categories, n_categories) \n",
    "\n",
    "with torch.no_grad():\n",
    "    for i in range(len(test_data)):\n",
    "\n",
    "        inputs = prepare_sequence(test_data[i][0], word_to_ix)\n",
    "        output = model(inputs)\n",
    "\n",
    "        # get top\n",
    "        topv, topi = output.topk(1)\n",
    "        true_values = prepare_sequence(test_data[i][1], tag_to_ix)\n",
    "    \n",
    "        for j in range(len(true_values)):\n",
    "            confusion[true_values[j]][topi[j]] += 1 # инк ячейку\n",
    "            \n",
    "normalize_confusion = torch.clone(confusion)\n",
    "# Normalize \n",
    "for i in range(n_categories):\n",
    "    normalize_confusion[i] = normalize_confusion[i] / normalize_confusion[i].sum()"
   ]
  },
  {
   "cell_type": "code",
   "execution_count": 83,
   "metadata": {},
   "outputs": [
    {
     "data": {
      "image/png": "[encoded data removed]",
      "text/plain": [
       "<Figure size 576x576 with 2 Axes>"
      ]
     },
     "metadata": {
      "needs_background": "light"
     },
     "output_type": "display_data"
    }
   ],
   "source": [
    "from matplotlib import ticker\n",
    "\n",
    "# Set up plot\n",
    "fig = plt.figure(figsize=(8, 8))\n",
    "ax = fig.add_subplot(111)\n",
    "cax = ax.matshow(normalize_confusion.numpy())\n",
    "fig.colorbar(cax)\n",
    "\n",
    "# Set up axes\n",
    "ax.set_xticklabels([''] + all_categories, rotation=90)\n",
    "ax.set_yticklabels([''] + all_categories)\n",
    "\n",
    "# Force label at every tick\n",
    "ax.xaxis.set_major_locator(ticker.MultipleLocator(1))\n",
    "ax.yaxis.set_major_locator(ticker.MultipleLocator(1))\n",
    "\n",
    "plt.show()"
   ]
  },
  {
   "cell_type": "code",
   "execution_count": 84,
   "metadata": {},
   "outputs": [
    {
     "name": "stdout",
     "output_type": "stream",
     "text": [
      "tensor(0.9881) tensor(7643.)\n",
      "tensor(0.9552) tensor(640.)\n",
      "tensor(0.6349) tensor(40.)\n",
      "tensor(0.1481) tensor(4.)\n",
      "tensor(0.8462) tensor(11.)\n",
      "tensor(0.) tensor(0.)\n",
      "tensor(0.8805) tensor(766.)\n",
      "tensor(0.7422)\n"
     ]
    },
    {
     "name": "stderr",
     "output_type": "stream",
     "text": [
      "/home/nbuser/anaconda3_501/lib/python3.6/site-packages/ipykernel/__main__.py:4: UserWarning: invalid index of a 0-dim tensor. This will be an error in PyTorch 0.5. Use tensor.item() to convert a 0-dim tensor to a Python number\n"
     ]
    }
   ],
   "source": [
    "all_perc = 0\n",
    "for i in range(n_categories):\n",
    "    \n",
    "    percent = normalize_confusion[i][i][0]\n",
    "    all_perc += percent\n",
    "    \n",
    "    print(normalize_confusion[i][i], confusion[i][i])\n",
    "    \n",
    "print(all_perc / (n_categories - 1))"
   ]
  },
  {
   "cell_type": "code",
   "execution_count": null,
   "metadata": {},
   "outputs": [],
   "source": []
  },
  {
   "cell_type": "code",
   "execution_count": null,
   "metadata": {},
   "outputs": [],
   "source": []
  },
  {
   "cell_type": "code",
   "execution_count": null,
   "metadata": {},
   "outputs": [],
   "source": []
  },
  {
   "cell_type": "markdown",
   "metadata": {},
   "source": [
    "# WITHout Attention"
   ]
  },
  {
   "cell_type": "markdown",
   "metadata": {},
   "source": [
    "EMBEDDING_DIM = 64, HIDDEN_DIM = 128, SGD, 45k iterr, total_acc = 0.8931619994885903%"
   ]
  },
  {
   "cell_type": "code",
   "execution_count": 21,
   "metadata": {},
   "outputs": [],
   "source": [
    "EMBEDDING_DIM = 256\n",
    "HIDDEN_DIM = 256\n",
    "HIDDEN_DIM2 = 128\n",
    "\n",
    "model = LSTMTagger(EMBEDDING_DIM, HIDDEN_DIM, HIDDEN_DIM2, len(word_to_ix), len(tag_to_ix))\n",
    "loss_function = nn.NLLLoss()\n",
    "\n",
    "all_losses = []"
   ]
  },
  {
   "cell_type": "code",
   "execution_count": 22,
   "metadata": {
    "scrolled": true
   },
   "outputs": [
    {
     "name": "stdout",
     "output_type": "stream",
     "text": [
      "250 5% (1m 19s) loss: 0.1246 accuracy on test: 0.9020\n",
      "500 10% (2m 26s) loss: 0.0262 accuracy on test: 0.9468\n",
      "750 15% (3m 14s) loss: 0.0419 accuracy on test: 0.9387\n",
      "1000 20% (3m 54s) loss: 0.0112 accuracy on test: 0.9524\n",
      "1250 25% (4m 40s) loss: 0.5620 accuracy on test: 0.9625\n",
      "1500 30% (5m 30s) loss: 0.4535 accuracy on test: 0.9700\n",
      "1750 35% (6m 21s) loss: 0.0521 accuracy on test: 0.9618\n",
      "2000 40% (7m 11s) loss: 0.0239 accuracy on test: 0.9737\n",
      "2250 45% (8m 9s) loss: 0.0743 accuracy on test: 0.9686\n",
      "2500 50% (9m 11s) loss: 0.1413 accuracy on test: 0.9690\n",
      "2750 55% (10m 6s) loss: 0.0078 accuracy on test: 0.9676\n",
      "3000 60% (11m 4s) loss: 0.0097 accuracy on test: 0.9779\n",
      "3250 65% (12m 5s) loss: 0.1801 accuracy on test: 0.9683\n",
      "3500 70% (12m 57s) loss: 0.0017 accuracy on test: 0.9699\n",
      "3750 75% (13m 53s) loss: 0.0217 accuracy on test: 0.9756\n",
      "4000 80% (14m 57s) loss: 0.0130 accuracy on test: 0.9764\n",
      "4250 85% (15m 48s) loss: 0.0947 accuracy on test: 0.9631\n",
      "4500 90% (16m 51s) loss: 0.0179 accuracy on test: 0.9688\n",
      "4750 95% (17m 44s) loss: 0.0012 accuracy on test: 0.9707\n",
      "5000 100% (18m 46s) loss: 0.1367 accuracy on test: 0.9833\n"
     ]
    }
   ],
   "source": [
    "learning_rate = 0.1\n",
    "\n",
    "optimizer = optim.SGD(model.parameters(), lr=learning_rate)\n",
    "\n",
    "n_iters = 5000\n",
    "\n",
    "plot_every = 100\n",
    "print_every = 250\n",
    "\n",
    "current_loss = 0\n",
    "#all_losses = []\n",
    "\n",
    "start = time.time()\n",
    "\n",
    "model.hidden1 = model.init_hidden1()\n",
    "model.hidden2 = model.init_hidden2()\n",
    "\n",
    "\n",
    "for i in range(1, n_iters + 1):\n",
    "    \n",
    "    se, tag = train_rng()\n",
    "    out, loss = train(se, tag)\n",
    "    current_loss += loss\n",
    "    \n",
    "    if i % print_every == 0:\n",
    "        print('%d %d%% (%s) loss: %.4f accuracy on test: %.4f' % (i, i / n_iters * 100, \n",
    "                                                                  timeSince(start), loss, evaluate()))\n",
    "\n",
    "    \n",
    "    if i % plot_every == 0:\n",
    "        all_losses.append(current_loss / plot_every)\n",
    "        current_loss = 0"
   ]
  },
  {
   "cell_type": "code",
   "execution_count": 23,
   "metadata": {},
   "outputs": [
    {
     "name": "stdout",
     "output_type": "stream",
     "text": [
      "0.9766864438396923\n"
     ]
    },
    {
     "data": {
      "image/png": "[encoded data removed]",
      "text/plain": [
       "<Figure size 432x288 with 1 Axes>"
      ]
     },
     "metadata": {
      "needs_background": "light"
     },
     "output_type": "display_data"
    }
   ],
   "source": [
    "import matplotlib.pyplot as plt\n",
    "\n",
    "print(total_evaluate())\n",
    "\n",
    "plt.plot(all_losses)\n",
    "plt.show()"
   ]
  },
  {
   "cell_type": "code",
   "execution_count": null,
   "metadata": {},
   "outputs": [],
   "source": []
  },
  {
   "cell_type": "code",
   "execution_count": 32,
   "metadata": {
    "scrolled": true
   },
   "outputs": [
    {
     "name": "stdout",
     "output_type": "stream",
     "text": [
      "250 8% (0m 25s) loss: 0.1714 accuracy on test: 0.9750\n",
      "500 16% (0m 54s) loss: 0.0217 accuracy on test: 0.9824\n",
      "750 25% (1m 27s) loss: 0.0075 accuracy on test: 0.9728\n",
      "1000 33% (2m 5s) loss: 0.0636 accuracy on test: 0.9844\n",
      "1250 41% (2m 58s) loss: 0.0395 accuracy on test: 0.9767\n",
      "1500 50% (3m 49s) loss: 0.2232 accuracy on test: 0.9600\n",
      "1750 58% (4m 35s) loss: 0.0117 accuracy on test: 0.9739\n",
      "2000 66% (5m 23s) loss: 0.2220 accuracy on test: 0.9637\n",
      "2250 75% (6m 14s) loss: 0.0140 accuracy on test: 0.9819\n",
      "2500 83% (7m 6s) loss: 0.0078 accuracy on test: 0.9754\n",
      "2750 91% (8m 5s) loss: 0.5167 accuracy on test: 0.9777\n",
      "3000 100% (9m 2s) loss: 0.0059 accuracy on test: 0.9731\n"
     ]
    }
   ],
   "source": [
    "learning_rate = 0.01\n",
    "\n",
    "optimizer = optim.SGD(model.parameters(), lr=learning_rate)\n",
    "\n",
    "n_iters = 3000\n",
    "\n",
    "plot_every = 100\n",
    "print_every = 250\n",
    "\n",
    "current_loss = 0\n",
    "#all_losses = []\n",
    "\n",
    "start = time.time()\n",
    "\n",
    "model.hidden1 = model.init_hidden1()\n",
    "model.hidden2 = model.init_hidden2()\n",
    "\n",
    "\n",
    "for i in range(1, n_iters + 1):\n",
    "    \n",
    "    se, tag = train_rng()\n",
    "    out, loss = train(se, tag)\n",
    "    current_loss += loss\n",
    "    \n",
    "    if i % print_every == 0:\n",
    "        print('%d %d%% (%s) loss: %.4f accuracy on test: %.4f' % (i, i / n_iters * 100, \n",
    "                                                                  timeSince(start), loss, evaluate()))\n",
    "\n",
    "    \n",
    "    if i % plot_every == 0:\n",
    "        all_losses.append(current_loss / plot_every)\n",
    "        current_loss = 0"
   ]
  },
  {
   "cell_type": "code",
   "execution_count": 33,
   "metadata": {},
   "outputs": [
    {
     "name": "stdout",
     "output_type": "stream",
     "text": [
      "0.9771909739325662\n"
     ]
    },
    {
     "data": {
      "image/png": "[encoded data removed]",
      "text/plain": [
       "<Figure size 432x288 with 1 Axes>"
      ]
     },
     "metadata": {
      "needs_background": "light"
     },
     "output_type": "display_data"
    }
   ],
   "source": [
    "import matplotlib.pyplot as plt\n",
    "\n",
    "print(total_evaluate())\n",
    "\n",
    "plt.plot(all_losses)\n",
    "plt.show()"
   ]
  },
  {
   "cell_type": "code",
   "execution_count": null,
   "metadata": {},
   "outputs": [],
   "source": []
  },
  {
   "cell_type": "markdown",
   "metadata": {},
   "source": [
    "## Save and load models"
   ]
  },
  {
   "cell_type": "code",
   "execution_count": 88,
   "metadata": {},
   "outputs": [],
   "source": [
    "path = '../Models/LSTM_Tone_DUMA'\n",
    "\n",
    "torch.save(model.state_dict(), path)"
   ]
  },
  {
   "cell_type": "code",
   "execution_count": 89,
   "metadata": {},
   "outputs": [
    {
     "data": {
      "text/plain": [
       "LSTMTagger(\n",
       "  (word_embeddings): Embedding(43502, 256)\n",
       "  (lstm): LSTM(256, 256)\n",
       "  (lstm2): LSTM(256, 128)\n",
       "  (hidden2tag): Linear(in_features=128, out_features=7, bias=True)\n",
       ")"
      ]
     },
     "execution_count": 89,
     "metadata": {},
     "output_type": "execute_result"
    }
   ],
   "source": [
    "model = LSTMTagger(EMBEDDING_DIM, HIDDEN_DIM, HIDDEN_DIM2, len(word_to_ix), len(tag_to_ix))\n",
    "model.load_state_dict(torch.load(path))\n",
    "model.eval()"
   ]
  },
  {
   "cell_type": "code",
   "execution_count": null,
   "metadata": {},
   "outputs": [],
   "source": []
  },
  {
   "cell_type": "code",
   "execution_count": null,
   "metadata": {},
   "outputs": [],
   "source": []
  },
  {
   "cell_type": "markdown",
   "metadata": {},
   "source": [
    "## confusion matrix"
   ]
  },
  {
   "cell_type": "code",
   "execution_count": 28,
   "metadata": {},
   "outputs": [],
   "source": [
    "all_categories = list(tag_to_ix)\n",
    "n_categories = len(all_categories)\n",
    "\n",
    "# Keep track of correct guesses in a confusion matrix\n",
    "confusion = torch.zeros(n_categories, n_categories) \n",
    "\n",
    "n_confusion = 1000\n",
    "\n",
    "with torch.no_grad():\n",
    "    for i in range(len(test_data)):\n",
    "\n",
    "        inputs = prepare_sequence(test_data[i][0], word_to_ix)\n",
    "        output = model(inputs)\n",
    "\n",
    "        # get top\n",
    "        topv, topi = output.topk(1)\n",
    "        true_values = prepare_sequence(test_data[i][1], tag_to_ix)\n",
    "    \n",
    "        for j in range(len(true_values)):\n",
    "            confusion[true_values[j]][topi[j]] += 1 # инк ячейку\n",
    "            \n",
    "normalize_confusion = torch.clone(confusion)\n",
    "# Normalize \n",
    "for i in range(n_categories):\n",
    "    normalize_confusion[i] = normalize_confusion[i] / normalize_confusion[i].sum()"
   ]
  },
  {
   "cell_type": "code",
   "execution_count": 29,
   "metadata": {},
   "outputs": [
    {
     "data": {
      "image/png": "[encoded data removed]",
      "text/plain": [
       "<Figure size 576x576 with 2 Axes>"
      ]
     },
     "metadata": {
      "needs_background": "light"
     },
     "output_type": "display_data"
    }
   ],
   "source": [
    "from matplotlib import ticker\n",
    "\n",
    "# Set up plot\n",
    "fig = plt.figure(figsize=(8, 8))\n",
    "ax = fig.add_subplot(111)\n",
    "cax = ax.matshow(normalize_confusion.numpy())\n",
    "fig.colorbar(cax)\n",
    "\n",
    "# Set up axes\n",
    "ax.set_xticklabels([''] + all_categories, rotation=90)\n",
    "ax.set_yticklabels([''] + all_categories)\n",
    "\n",
    "# Force label at every tick\n",
    "ax.xaxis.set_major_locator(ticker.MultipleLocator(1))\n",
    "ax.yaxis.set_major_locator(ticker.MultipleLocator(1))\n",
    "\n",
    "plt.show()"
   ]
  },
  {
   "cell_type": "code",
   "execution_count": 30,
   "metadata": {},
   "outputs": [
    {
     "data": {
      "text/plain": [
       "{0: 0, 11: 1, 30: 2, 40: 3, 50: 4, 70: 5, 110: 6}"
      ]
     },
     "execution_count": 30,
     "metadata": {},
     "output_type": "execute_result"
    }
   ],
   "source": [
    "tag_to_ix"
   ]
  },
  {
   "cell_type": "code",
   "execution_count": 31,
   "metadata": {},
   "outputs": [
    {
     "name": "stdout",
     "output_type": "stream",
     "text": [
      "tensor(0.9951) tensor(7697.)\n",
      "tensor(0.9746) tensor(653.)\n",
      "tensor(0.4921) tensor(31.)\n",
      "tensor(1.) tensor(27.)\n",
      "tensor(0.) tensor(0.)\n",
      "tensor(0.4146) tensor(17.)\n",
      "tensor(0.8782) tensor(764.)\n",
      "tensor(0.7924)\n"
     ]
    },
    {
     "name": "stderr",
     "output_type": "stream",
     "text": [
      "/home/nbuser/anaconda3_501/lib/python3.6/site-packages/ipykernel/__main__.py:4: UserWarning: invalid index of a 0-dim tensor. This will be an error in PyTorch 0.5. Use tensor.item() to convert a 0-dim tensor to a Python number\n"
     ]
    }
   ],
   "source": [
    "all_perc = 0\n",
    "for i in range(n_categories):\n",
    "    \n",
    "    percent = normalize_confusion[i][i][0]\n",
    "    all_perc += percent\n",
    "    \n",
    "    print(normalize_confusion[i][i], confusion[i][i])\n",
    "    \n",
    "print(all_perc / (n_categories - 1))"
   ]
  },
  {
   "cell_type": "code",
   "execution_count": null,
   "metadata": {},
   "outputs": [],
   "source": []
  },
  {
   "cell_type": "code",
   "execution_count": 52,
   "metadata": {},
   "outputs": [
    {
     "data": {
      "text/plain": [
       "[(['уильям', 'дж', 'локк', '.'], [0, 0, 0, 11]),\n",
       " (['друг', 'человечества', '.'], [0, 0, 11]),\n",
       " (['один', '.'], [0, 11]),\n",
       " (['-',\n",
       "   'мне',\n",
       "   'нравится',\n",
       "   'нунсмер',\n",
       "   ',-',\n",
       "   'сказал',\n",
       "   'литератор',\n",
       "   'из',\n",
       "   'лондона',\n",
       "   '.'],\n",
       "  [0, 0, 0, 0, 11, 0, 0, 0, 0, 11]),\n",
       " (['-',\n",
       "   'это',\n",
       "   'место',\n",
       "   ',',\n",
       "   'куда',\n",
       "   'складывают',\n",
       "   'отцветшие',\n",
       "   'жизни',\n",
       "   ',',\n",
       "   'пересыпая',\n",
       "   'их',\n",
       "   'лавандой',\n",
       "   '.'],\n",
       "  [0, 0, 0, 110, 0, 0, 0, 0, 110, 0, 0, 0, 11])]"
      ]
     },
     "execution_count": 52,
     "metadata": {},
     "output_type": "execute_result"
    }
   ],
   "source": [
    "data[:5]"
   ]
  },
  {
   "cell_type": "code",
   "execution_count": null,
   "metadata": {},
   "outputs": [],
   "source": []
  }
 ],
 "metadata": {
  "kernelspec": {
   "display_name": "Python 3",
   "language": "python",
   "name": "python3"
  },
  "language_info": {
   "codemirror_mode": {
    "name": "ipython",
    "version": 3
   },
   "file_extension": ".py",
   "mimetype": "text/x-python",
   "name": "python",
   "nbconvert_exporter": "python",
   "pygments_lexer": "ipython3",
   "version": "3.7.2"
  }
 },
 "nbformat": 4,
 "nbformat_minor": 2
}
